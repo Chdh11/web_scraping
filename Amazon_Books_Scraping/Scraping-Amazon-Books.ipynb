{
 "cells": [
  {
   "cell_type": "markdown",
   "id": "1635a732",
   "metadata": {},
   "source": [
    "# Scraping Amazon for bestsellers in different genres\n",
    "\n",
    "#### Web Scraping \n",
    "Web scraping is a technique used to extract information or data from websites. Web scraping is commonly employed for various purposes, including data mining, market research, price comparison, content aggregation, and more.\n",
    "\n",
    "#### Problem Statement\n",
    "We'll scrape information from https://www.amazon.in/gp/bestsellers/books/ , creating three datasets: Genre, Sub-Genre, Books.\n",
    "\n",
    "#### Tools used\n",
    "1. Python\n",
    "2. Requests: It is an HTTP client library it simplifies the process of sending and receiving data from websites by providing a uniform interface for both GET and POST methods.\n",
    "    + documentation: https://requests.readthedocs.io/en/latest/ \n",
    "3. Beautiful Soup: It is a Python package for parsing HTML and XML documents.\n",
    "    + documentation: https://beautiful-soup-4.readthedocs.io/en/latest/ \n",
    "4. Pandas: a software library for data manipulation and analysis.\n",
    "    + documentation: https://pandas.pydata.org/docs/getting_started/install.html\n",
    "\n",
    "#### Link to Datasets\n",
    "These Dataset are uploaded on Kaggle: \n",
    "https://www.kaggle.com/datasets/chhavidhankhar11/amazon-books-dataset/data?select=Amazon_Books_Scraping"
   ]
  },
  {
   "cell_type": "markdown",
   "id": "395a9ca7",
   "metadata": {},
   "source": [
    "### Project Outline:\n",
    "1. scrape https://www.amazon.in/gp/bestsellers/books/ \n",
    "2. create a dataset of all the genre available, number of sub-genres, url \n",
    "3. A dataset of sub-genres, their main genre, number of books, url\n",
    "4. A dataset of books with their title, genre, sub-genre, paperback/kindle/audiobook/hardcover, price, rating, number of people rated, url.\n",
    "5. merge all of them\n",
    "7. upload the final dataset on kaggle"
   ]
  },
  {
   "cell_type": "markdown",
   "id": "114afede",
   "metadata": {},
   "source": [
    "## Use the requests library to download web pages\n"
   ]
  },
  {
   "cell_type": "code",
   "execution_count": 1,
   "id": "7e335ecb",
   "metadata": {},
   "outputs": [
    {
     "name": "stdout",
     "output_type": "stream",
     "text": [
      "\r\n",
      "\u001b[1m[\u001b[0m\u001b[34;49mnotice\u001b[0m\u001b[1;39;49m]\u001b[0m\u001b[39;49m A new release of pip is available: \u001b[0m\u001b[31;49m23.3.2\u001b[0m\u001b[39;49m -> \u001b[0m\u001b[32;49m24.0\u001b[0m\r\n",
      "\u001b[1m[\u001b[0m\u001b[34;49mnotice\u001b[0m\u001b[1;39;49m]\u001b[0m\u001b[39;49m To update, run: \u001b[0m\u001b[32;49mpip install --upgrade pip\u001b[0m\r\n"
     ]
    }
   ],
   "source": [
    "!pip install requests --upgrade --quiet"
   ]
  },
  {
   "cell_type": "code",
   "execution_count": 2,
   "id": "59dd3ed4",
   "metadata": {},
   "outputs": [],
   "source": [
    "import requests"
   ]
  },
  {
   "cell_type": "code",
   "execution_count": 3,
   "id": "1e05e152",
   "metadata": {},
   "outputs": [],
   "source": [
    "topics_url='https://www.amazon.in/gp/bestsellers/books/'\n",
    "response=requests.get(topics_url)"
   ]
  },
  {
   "cell_type": "code",
   "execution_count": 4,
   "id": "71dd980d",
   "metadata": {},
   "outputs": [
    {
     "data": {
      "text/plain": [
       "200"
      ]
     },
     "execution_count": 4,
     "metadata": {},
     "output_type": "execute_result"
    }
   ],
   "source": [
    "response.status_code"
   ]
  },
  {
   "cell_type": "code",
   "execution_count": 5,
   "id": "d8459760",
   "metadata": {},
   "outputs": [
    {
     "data": {
      "text/plain": [
       "324642"
      ]
     },
     "execution_count": 5,
     "metadata": {},
     "output_type": "execute_result"
    }
   ],
   "source": [
    "len(response.text)"
   ]
  },
  {
   "cell_type": "code",
   "execution_count": 6,
   "id": "7f96c8f5",
   "metadata": {},
   "outputs": [],
   "source": [
    "page_contents=response.text"
   ]
  },
  {
   "cell_type": "markdown",
   "id": "81c60ecd",
   "metadata": {},
   "source": [
    "## Use Beautiful Soup to parse and extract information\n"
   ]
  },
  {
   "cell_type": "markdown",
   "id": "7fb4ba70",
   "metadata": {},
   "source": [
    "### Dataset 1\n",
    "Dataset of all the genre available, number of sub-genres, url"
   ]
  },
  {
   "cell_type": "code",
   "execution_count": 7,
   "id": "b857d55a",
   "metadata": {},
   "outputs": [
    {
     "name": "stdout",
     "output_type": "stream",
     "text": [
      "\r\n",
      "\u001b[1m[\u001b[0m\u001b[34;49mnotice\u001b[0m\u001b[1;39;49m]\u001b[0m\u001b[39;49m A new release of pip is available: \u001b[0m\u001b[31;49m23.3.2\u001b[0m\u001b[39;49m -> \u001b[0m\u001b[32;49m24.0\u001b[0m\r\n",
      "\u001b[1m[\u001b[0m\u001b[34;49mnotice\u001b[0m\u001b[1;39;49m]\u001b[0m\u001b[39;49m To update, run: \u001b[0m\u001b[32;49mpip install --upgrade pip\u001b[0m\r\n"
     ]
    }
   ],
   "source": [
    "!pip install beautifulsoup4 --upgrade --quiet"
   ]
  },
  {
   "cell_type": "code",
   "execution_count": 8,
   "id": "3699d1de",
   "metadata": {},
   "outputs": [],
   "source": [
    "from bs4 import BeautifulSoup"
   ]
  },
  {
   "cell_type": "code",
   "execution_count": 9,
   "id": "61cd8585",
   "metadata": {},
   "outputs": [],
   "source": [
    "doc=BeautifulSoup(page_contents, 'html.parser')"
   ]
  },
  {
   "cell_type": "code",
   "execution_count": 10,
   "id": "91cb3df4",
   "metadata": {},
   "outputs": [
    {
     "data": {
      "text/plain": [
       "bs4.BeautifulSoup"
      ]
     },
     "execution_count": 10,
     "metadata": {},
     "output_type": "execute_result"
    }
   ],
   "source": [
    "type(doc)"
   ]
  },
  {
   "cell_type": "markdown",
   "id": "13f7f60a",
   "metadata": {},
   "source": [
    "#### Genre Title"
   ]
  },
  {
   "cell_type": "code",
   "execution_count": 11,
   "id": "a9574d37",
   "metadata": {},
   "outputs": [],
   "source": [
    "genre_title_class='_p13n-zg-nav-tree-all_style_zg-browse-item__1rdKf _p13n-zg-nav-tree-all_style_zg-browse-height-large__1z5B8'\n",
    "genre_title_tags=doc.find_all('div',{'class':genre_title_class})"
   ]
  },
  {
   "cell_type": "code",
   "execution_count": 12,
   "id": "8437510a",
   "metadata": {},
   "outputs": [
    {
     "data": {
      "text/plain": [
       "bs4.element.ResultSet"
      ]
     },
     "execution_count": 12,
     "metadata": {},
     "output_type": "execute_result"
    }
   ],
   "source": [
    "type(doc.find_all('hr'))"
   ]
  },
  {
   "cell_type": "code",
   "execution_count": 13,
   "id": "5951acfb",
   "metadata": {},
   "outputs": [
    {
     "data": {
      "text/plain": [
       "36"
      ]
     },
     "execution_count": 13,
     "metadata": {},
     "output_type": "execute_result"
    }
   ],
   "source": [
    "len(genre_title_tags)"
   ]
  },
  {
   "cell_type": "code",
   "execution_count": 14,
   "id": "6577db8b",
   "metadata": {},
   "outputs": [
    {
     "data": {
      "text/plain": [
       "<div class=\"_p13n-zg-nav-tree-all_style_zg-browse-item__1rdKf _p13n-zg-nav-tree-all_style_zg-browse-height-large__1z5B8\" role=\"treeitem\"><span class=\"_p13n-zg-nav-tree-all_style_zg-selected__1SfhQ\">Books</span></div>"
      ]
     },
     "execution_count": 14,
     "metadata": {},
     "output_type": "execute_result"
    }
   ],
   "source": [
    "genre_title_tags[0]"
   ]
  },
  {
   "cell_type": "markdown",
   "id": "9ff8a67c",
   "metadata": {},
   "source": [
    "We don't need the first tag as it's only 'Books'. As we are making dataset for genres we can exclude this."
   ]
  },
  {
   "cell_type": "code",
   "execution_count": 15,
   "id": "b2275e71",
   "metadata": {},
   "outputs": [],
   "source": [
    "genre_title_tags=genre_title_tags[1:]"
   ]
  },
  {
   "cell_type": "code",
   "execution_count": 16,
   "id": "0c2f4f63",
   "metadata": {},
   "outputs": [
    {
     "data": {
      "text/plain": [
       "35"
      ]
     },
     "execution_count": 16,
     "metadata": {},
     "output_type": "execute_result"
    }
   ],
   "source": [
    "len(genre_title_tags)"
   ]
  },
  {
   "cell_type": "code",
   "execution_count": 17,
   "id": "0c03ae2f",
   "metadata": {},
   "outputs": [
    {
     "data": {
      "text/plain": [
       "'Arts, Film & Photography'"
      ]
     },
     "execution_count": 17,
     "metadata": {},
     "output_type": "execute_result"
    }
   ],
   "source": [
    "genre_title_tags[1].find_all('a')[0].text"
   ]
  },
  {
   "cell_type": "code",
   "execution_count": 18,
   "id": "6efc9377",
   "metadata": {},
   "outputs": [],
   "source": [
    "genre_title=[]\n",
    "for tag in genre_title_tags:\n",
    "    genre_title.append(tag.find_all('a')[0].text)"
   ]
  },
  {
   "cell_type": "code",
   "execution_count": 19,
   "id": "693a9def",
   "metadata": {},
   "outputs": [
    {
     "data": {
      "text/plain": [
       "['Action & Adventure',\n",
       " 'Arts, Film & Photography',\n",
       " 'Biographies, Diaries & True Accounts',\n",
       " 'Business & Economics',\n",
       " \"Children's Books\",\n",
       " 'Comics & Mangas',\n",
       " 'Computing, Internet & Digital Media',\n",
       " 'Crafts, Home & Lifestyle',\n",
       " 'Crime, Thriller & Mystery',\n",
       " 'Engineering',\n",
       " 'Exam Preparation',\n",
       " 'Fantasy, Horror & Science Fiction',\n",
       " 'Health, Family & Personal Development',\n",
       " 'Health, Fitness & Nutrition',\n",
       " 'Higher Education Textbooks',\n",
       " 'Historical Fiction',\n",
       " 'History',\n",
       " 'Humour',\n",
       " 'Language, Linguistics & Writing',\n",
       " 'Law',\n",
       " 'Literature & Fiction',\n",
       " 'Maps & Atlases',\n",
       " 'Medicine & Health Sciences',\n",
       " 'Politics',\n",
       " 'Reference',\n",
       " 'Religion',\n",
       " 'Romance',\n",
       " 'School Books',\n",
       " 'Science & Mathematics',\n",
       " 'Sciences, Technology & Medicine',\n",
       " 'Society & Social Sciences',\n",
       " 'Sports',\n",
       " 'Teen & Young Adult',\n",
       " 'Textbooks & Study Guides',\n",
       " 'Travel']"
      ]
     },
     "execution_count": 19,
     "metadata": {},
     "output_type": "execute_result"
    }
   ],
   "source": [
    "genre_title"
   ]
  },
  {
   "cell_type": "markdown",
   "id": "1377d444",
   "metadata": {},
   "source": [
    "#### URLs"
   ]
  },
  {
   "cell_type": "code",
   "execution_count": 20,
   "id": "9c689684",
   "metadata": {},
   "outputs": [],
   "source": [
    "genre_url_class='_p13n-zg-nav-tree-all_style_zg-browse-item__1rdKf _p13n-zg-nav-tree-all_style_zg-browse-height-large__1z5B8'\n",
    "genre_url_tags=doc.find_all('div',{'class':genre_url_class})"
   ]
  },
  {
   "cell_type": "code",
   "execution_count": 21,
   "id": "33236537",
   "metadata": {},
   "outputs": [],
   "source": [
    "genre_url_tags=genre_url_tags[1:]"
   ]
  },
  {
   "cell_type": "code",
   "execution_count": 22,
   "id": "04e6b023",
   "metadata": {},
   "outputs": [
    {
     "data": {
      "text/plain": [
       "'/gp/bestsellers/books/1318052031'"
      ]
     },
     "execution_count": 22,
     "metadata": {},
     "output_type": "execute_result"
    }
   ],
   "source": [
    "genre_title_tags[1].find_all('a')[0]['href']"
   ]
  },
  {
   "cell_type": "code",
   "execution_count": 23,
   "id": "ea2a996e",
   "metadata": {},
   "outputs": [
    {
     "data": {
      "text/plain": [
       "['https://www.amazon.in/gp/bestsellers/books/1318158031',\n",
       " 'https://www.amazon.in/gp/bestsellers/books/1318052031',\n",
       " 'https://www.amazon.in/gp/bestsellers/books/1318064031',\n",
       " 'https://www.amazon.in/gp/bestsellers/books/1318068031',\n",
       " 'https://www.amazon.in/gp/bestsellers/books/64619755031',\n",
       " 'https://www.amazon.in/gp/bestsellers/books/1318104031',\n",
       " 'https://www.amazon.in/gp/bestsellers/books/1318105031',\n",
       " 'https://www.amazon.in/gp/bestsellers/books/1318118031',\n",
       " 'https://www.amazon.in/gp/bestsellers/books/1318161031',\n",
       " 'https://www.amazon.in/gp/bestsellers/books/22960344031',\n",
       " 'https://www.amazon.in/gp/bestsellers/books/4149751031',\n",
       " 'https://www.amazon.in/gp/bestsellers/books/1402038031',\n",
       " 'https://www.amazon.in/gp/bestsellers/books/1318128031',\n",
       " 'https://www.amazon.in/gp/bestsellers/books/23033693031',\n",
       " 'https://www.amazon.in/gp/bestsellers/books/4149418031',\n",
       " 'https://www.amazon.in/gp/bestsellers/books/1318164031',\n",
       " 'https://www.amazon.in/gp/bestsellers/books/4149493031',\n",
       " 'https://www.amazon.in/gp/bestsellers/books/1318143031',\n",
       " 'https://www.amazon.in/gp/bestsellers/books/1318144031',\n",
       " 'https://www.amazon.in/gp/bestsellers/books/4149542031',\n",
       " 'https://www.amazon.in/gp/bestsellers/books/1318157031',\n",
       " 'https://www.amazon.in/gp/bestsellers/books/1318298031',\n",
       " 'https://www.amazon.in/gp/bestsellers/books/4149549031',\n",
       " 'https://www.amazon.in/gp/bestsellers/books/1318176031',\n",
       " 'https://www.amazon.in/gp/bestsellers/books/1318185031',\n",
       " 'https://www.amazon.in/gp/bestsellers/books/1318188031',\n",
       " 'https://www.amazon.in/gp/bestsellers/books/1318168031',\n",
       " 'https://www.amazon.in/gp/bestsellers/books/4149807031',\n",
       " 'https://www.amazon.in/gp/bestsellers/books/4149708031',\n",
       " 'https://www.amazon.in/gp/bestsellers/books/1318203031',\n",
       " 'https://www.amazon.in/gp/bestsellers/books/1318216031',\n",
       " 'https://www.amazon.in/gp/bestsellers/books/1318224031',\n",
       " 'https://www.amazon.in/gp/bestsellers/books/64619754031',\n",
       " 'https://www.amazon.in/gp/bestsellers/books/15417300031',\n",
       " 'https://www.amazon.in/gp/bestsellers/books/1318295031']"
      ]
     },
     "execution_count": 23,
     "metadata": {},
     "output_type": "execute_result"
    }
   ],
   "source": [
    "genre_url=[]\n",
    "for tag in genre_url_tags:\n",
    "    genre_url.append(\"https://www.amazon.in\"+tag.find_all('a')[0]['href'])\n",
    "genre_url"
   ]
  },
  {
   "cell_type": "markdown",
   "id": "6f5d7018",
   "metadata": {},
   "source": [
    "#### Number of Sub-Genres\n",
    "As the sub-genre show when we click on the url of a particular genre. Let's make a function to calculate that"
   ]
  },
  {
   "cell_type": "code",
   "execution_count": 24,
   "id": "204f9162",
   "metadata": {},
   "outputs": [],
   "source": [
    "def no_of_subgenre(url):\n",
    "    response=requests.get(url)\n",
    "    page_contents=response.text\n",
    "    doc=BeautifulSoup(page_contents, 'html.parser')\n",
    "    sub_genre_title_class='_p13n-zg-nav-tree-all_style_zg-browse-item__1rdKf _p13n-zg-nav-tree-all_style_zg-browse-height-large__1z5B8'\n",
    "    sub_genre_title_tags=doc.find_all('div',{'class':sub_genre_title_class})\n",
    "    sub_genre_title_tags=sub_genre_title_tags[1:]\n",
    "    return len(sub_genre_title_tags)"
   ]
  },
  {
   "cell_type": "code",
   "execution_count": 25,
   "id": "ee33ccf0",
   "metadata": {},
   "outputs": [
    {
     "data": {
      "text/plain": [
       "11"
      ]
     },
     "execution_count": 25,
     "metadata": {},
     "output_type": "execute_result"
    }
   ],
   "source": [
    "no_of_subgenre('https://www.amazon.in/gp/bestsellers/books/1318052031')"
   ]
  },
  {
   "cell_type": "code",
   "execution_count": 26,
   "id": "edf31fe3",
   "metadata": {},
   "outputs": [
    {
     "data": {
      "text/plain": [
       "[35,\n",
       " 11,\n",
       " 3,\n",
       " 4,\n",
       " 34,\n",
       " 2,\n",
       " 11,\n",
       " 9,\n",
       " 3,\n",
       " 18,\n",
       " 15,\n",
       " 3,\n",
       " 4,\n",
       " 1,\n",
       " 10,\n",
       " 35,\n",
       " 6,\n",
       " 35,\n",
       " 7,\n",
       " 6,\n",
       " 19,\n",
       " 35,\n",
       " 10,\n",
       " 7,\n",
       " 5,\n",
       " 12,\n",
       " 29,\n",
       " 8,\n",
       " 9,\n",
       " 13,\n",
       " 7,\n",
       " 37,\n",
       " 18,\n",
       " 2,\n",
       " 6]"
      ]
     },
     "execution_count": 26,
     "metadata": {},
     "output_type": "execute_result"
    }
   ],
   "source": [
    "sub_genre=[]\n",
    "for i in genre_url:\n",
    "    sub_genre.append(no_of_subgenre(i))\n",
    "sub_genre"
   ]
  },
  {
   "cell_type": "markdown",
   "id": "e898d4ca",
   "metadata": {},
   "source": [
    "The genres with 35 sub-genres in this list are actually the one's with 0 sub-genres. So we update the list accordingly"
   ]
  },
  {
   "cell_type": "code",
   "execution_count": 27,
   "id": "a3346746",
   "metadata": {},
   "outputs": [],
   "source": [
    "for i in range(0,len(sub_genre)):\n",
    "    if sub_genre[i]==35:\n",
    "        sub_genre[i]=0\n",
    "    else:\n",
    "        continue"
   ]
  },
  {
   "cell_type": "code",
   "execution_count": 28,
   "id": "7c69d634",
   "metadata": {},
   "outputs": [
    {
     "data": {
      "text/plain": [
       "[0,\n",
       " 11,\n",
       " 3,\n",
       " 4,\n",
       " 34,\n",
       " 2,\n",
       " 11,\n",
       " 9,\n",
       " 3,\n",
       " 18,\n",
       " 15,\n",
       " 3,\n",
       " 4,\n",
       " 1,\n",
       " 10,\n",
       " 0,\n",
       " 6,\n",
       " 0,\n",
       " 7,\n",
       " 6,\n",
       " 19,\n",
       " 0,\n",
       " 10,\n",
       " 7,\n",
       " 5,\n",
       " 12,\n",
       " 29,\n",
       " 8,\n",
       " 9,\n",
       " 13,\n",
       " 7,\n",
       " 37,\n",
       " 18,\n",
       " 2,\n",
       " 6]"
      ]
     },
     "execution_count": 28,
     "metadata": {},
     "output_type": "execute_result"
    }
   ],
   "source": [
    "sub_genre"
   ]
  },
  {
   "cell_type": "code",
   "execution_count": 29,
   "id": "b493fdbc",
   "metadata": {},
   "outputs": [],
   "source": [
    "import pandas as pd"
   ]
  },
  {
   "cell_type": "code",
   "execution_count": 30,
   "id": "19b193c9",
   "metadata": {},
   "outputs": [],
   "source": [
    "genre_data={'Title':genre_title,'Number of Sub-genres':sub_genre,'URL':genre_url}\n",
    "Genre_df=pd.DataFrame(genre_data)"
   ]
  },
  {
   "cell_type": "code",
   "execution_count": 31,
   "id": "884ded52",
   "metadata": {
    "scrolled": false
   },
   "outputs": [
    {
     "data": {
      "text/html": [
       "<div>\n",
       "<style scoped>\n",
       "    .dataframe tbody tr th:only-of-type {\n",
       "        vertical-align: middle;\n",
       "    }\n",
       "\n",
       "    .dataframe tbody tr th {\n",
       "        vertical-align: top;\n",
       "    }\n",
       "\n",
       "    .dataframe thead th {\n",
       "        text-align: right;\n",
       "    }\n",
       "</style>\n",
       "<table border=\"1\" class=\"dataframe\">\n",
       "  <thead>\n",
       "    <tr style=\"text-align: right;\">\n",
       "      <th></th>\n",
       "      <th>Title</th>\n",
       "      <th>Number of Sub-genres</th>\n",
       "      <th>URL</th>\n",
       "    </tr>\n",
       "  </thead>\n",
       "  <tbody>\n",
       "    <tr>\n",
       "      <th>0</th>\n",
       "      <td>Action &amp; Adventure</td>\n",
       "      <td>0</td>\n",
       "      <td>https://www.amazon.in/gp/bestsellers/books/131...</td>\n",
       "    </tr>\n",
       "    <tr>\n",
       "      <th>1</th>\n",
       "      <td>Arts, Film &amp; Photography</td>\n",
       "      <td>11</td>\n",
       "      <td>https://www.amazon.in/gp/bestsellers/books/131...</td>\n",
       "    </tr>\n",
       "    <tr>\n",
       "      <th>2</th>\n",
       "      <td>Biographies, Diaries &amp; True Accounts</td>\n",
       "      <td>3</td>\n",
       "      <td>https://www.amazon.in/gp/bestsellers/books/131...</td>\n",
       "    </tr>\n",
       "    <tr>\n",
       "      <th>3</th>\n",
       "      <td>Business &amp; Economics</td>\n",
       "      <td>4</td>\n",
       "      <td>https://www.amazon.in/gp/bestsellers/books/131...</td>\n",
       "    </tr>\n",
       "    <tr>\n",
       "      <th>4</th>\n",
       "      <td>Children's Books</td>\n",
       "      <td>34</td>\n",
       "      <td>https://www.amazon.in/gp/bestsellers/books/646...</td>\n",
       "    </tr>\n",
       "    <tr>\n",
       "      <th>5</th>\n",
       "      <td>Comics &amp; Mangas</td>\n",
       "      <td>2</td>\n",
       "      <td>https://www.amazon.in/gp/bestsellers/books/131...</td>\n",
       "    </tr>\n",
       "    <tr>\n",
       "      <th>6</th>\n",
       "      <td>Computing, Internet &amp; Digital Media</td>\n",
       "      <td>11</td>\n",
       "      <td>https://www.amazon.in/gp/bestsellers/books/131...</td>\n",
       "    </tr>\n",
       "    <tr>\n",
       "      <th>7</th>\n",
       "      <td>Crafts, Home &amp; Lifestyle</td>\n",
       "      <td>9</td>\n",
       "      <td>https://www.amazon.in/gp/bestsellers/books/131...</td>\n",
       "    </tr>\n",
       "    <tr>\n",
       "      <th>8</th>\n",
       "      <td>Crime, Thriller &amp; Mystery</td>\n",
       "      <td>3</td>\n",
       "      <td>https://www.amazon.in/gp/bestsellers/books/131...</td>\n",
       "    </tr>\n",
       "    <tr>\n",
       "      <th>9</th>\n",
       "      <td>Engineering</td>\n",
       "      <td>18</td>\n",
       "      <td>https://www.amazon.in/gp/bestsellers/books/229...</td>\n",
       "    </tr>\n",
       "    <tr>\n",
       "      <th>10</th>\n",
       "      <td>Exam Preparation</td>\n",
       "      <td>15</td>\n",
       "      <td>https://www.amazon.in/gp/bestsellers/books/414...</td>\n",
       "    </tr>\n",
       "    <tr>\n",
       "      <th>11</th>\n",
       "      <td>Fantasy, Horror &amp; Science Fiction</td>\n",
       "      <td>3</td>\n",
       "      <td>https://www.amazon.in/gp/bestsellers/books/140...</td>\n",
       "    </tr>\n",
       "    <tr>\n",
       "      <th>12</th>\n",
       "      <td>Health, Family &amp; Personal Development</td>\n",
       "      <td>4</td>\n",
       "      <td>https://www.amazon.in/gp/bestsellers/books/131...</td>\n",
       "    </tr>\n",
       "    <tr>\n",
       "      <th>13</th>\n",
       "      <td>Health, Fitness &amp; Nutrition</td>\n",
       "      <td>1</td>\n",
       "      <td>https://www.amazon.in/gp/bestsellers/books/230...</td>\n",
       "    </tr>\n",
       "    <tr>\n",
       "      <th>14</th>\n",
       "      <td>Higher Education Textbooks</td>\n",
       "      <td>10</td>\n",
       "      <td>https://www.amazon.in/gp/bestsellers/books/414...</td>\n",
       "    </tr>\n",
       "    <tr>\n",
       "      <th>15</th>\n",
       "      <td>Historical Fiction</td>\n",
       "      <td>0</td>\n",
       "      <td>https://www.amazon.in/gp/bestsellers/books/131...</td>\n",
       "    </tr>\n",
       "    <tr>\n",
       "      <th>16</th>\n",
       "      <td>History</td>\n",
       "      <td>6</td>\n",
       "      <td>https://www.amazon.in/gp/bestsellers/books/414...</td>\n",
       "    </tr>\n",
       "    <tr>\n",
       "      <th>17</th>\n",
       "      <td>Humour</td>\n",
       "      <td>0</td>\n",
       "      <td>https://www.amazon.in/gp/bestsellers/books/131...</td>\n",
       "    </tr>\n",
       "    <tr>\n",
       "      <th>18</th>\n",
       "      <td>Language, Linguistics &amp; Writing</td>\n",
       "      <td>7</td>\n",
       "      <td>https://www.amazon.in/gp/bestsellers/books/131...</td>\n",
       "    </tr>\n",
       "    <tr>\n",
       "      <th>19</th>\n",
       "      <td>Law</td>\n",
       "      <td>6</td>\n",
       "      <td>https://www.amazon.in/gp/bestsellers/books/414...</td>\n",
       "    </tr>\n",
       "    <tr>\n",
       "      <th>20</th>\n",
       "      <td>Literature &amp; Fiction</td>\n",
       "      <td>19</td>\n",
       "      <td>https://www.amazon.in/gp/bestsellers/books/131...</td>\n",
       "    </tr>\n",
       "    <tr>\n",
       "      <th>21</th>\n",
       "      <td>Maps &amp; Atlases</td>\n",
       "      <td>0</td>\n",
       "      <td>https://www.amazon.in/gp/bestsellers/books/131...</td>\n",
       "    </tr>\n",
       "    <tr>\n",
       "      <th>22</th>\n",
       "      <td>Medicine &amp; Health Sciences</td>\n",
       "      <td>10</td>\n",
       "      <td>https://www.amazon.in/gp/bestsellers/books/414...</td>\n",
       "    </tr>\n",
       "    <tr>\n",
       "      <th>23</th>\n",
       "      <td>Politics</td>\n",
       "      <td>7</td>\n",
       "      <td>https://www.amazon.in/gp/bestsellers/books/131...</td>\n",
       "    </tr>\n",
       "    <tr>\n",
       "      <th>24</th>\n",
       "      <td>Reference</td>\n",
       "      <td>5</td>\n",
       "      <td>https://www.amazon.in/gp/bestsellers/books/131...</td>\n",
       "    </tr>\n",
       "    <tr>\n",
       "      <th>25</th>\n",
       "      <td>Religion</td>\n",
       "      <td>12</td>\n",
       "      <td>https://www.amazon.in/gp/bestsellers/books/131...</td>\n",
       "    </tr>\n",
       "    <tr>\n",
       "      <th>26</th>\n",
       "      <td>Romance</td>\n",
       "      <td>29</td>\n",
       "      <td>https://www.amazon.in/gp/bestsellers/books/131...</td>\n",
       "    </tr>\n",
       "    <tr>\n",
       "      <th>27</th>\n",
       "      <td>School Books</td>\n",
       "      <td>8</td>\n",
       "      <td>https://www.amazon.in/gp/bestsellers/books/414...</td>\n",
       "    </tr>\n",
       "    <tr>\n",
       "      <th>28</th>\n",
       "      <td>Science &amp; Mathematics</td>\n",
       "      <td>9</td>\n",
       "      <td>https://www.amazon.in/gp/bestsellers/books/414...</td>\n",
       "    </tr>\n",
       "    <tr>\n",
       "      <th>29</th>\n",
       "      <td>Sciences, Technology &amp; Medicine</td>\n",
       "      <td>13</td>\n",
       "      <td>https://www.amazon.in/gp/bestsellers/books/131...</td>\n",
       "    </tr>\n",
       "    <tr>\n",
       "      <th>30</th>\n",
       "      <td>Society &amp; Social Sciences</td>\n",
       "      <td>7</td>\n",
       "      <td>https://www.amazon.in/gp/bestsellers/books/131...</td>\n",
       "    </tr>\n",
       "    <tr>\n",
       "      <th>31</th>\n",
       "      <td>Sports</td>\n",
       "      <td>37</td>\n",
       "      <td>https://www.amazon.in/gp/bestsellers/books/131...</td>\n",
       "    </tr>\n",
       "    <tr>\n",
       "      <th>32</th>\n",
       "      <td>Teen &amp; Young Adult</td>\n",
       "      <td>18</td>\n",
       "      <td>https://www.amazon.in/gp/bestsellers/books/646...</td>\n",
       "    </tr>\n",
       "    <tr>\n",
       "      <th>33</th>\n",
       "      <td>Textbooks &amp; Study Guides</td>\n",
       "      <td>2</td>\n",
       "      <td>https://www.amazon.in/gp/bestsellers/books/154...</td>\n",
       "    </tr>\n",
       "    <tr>\n",
       "      <th>34</th>\n",
       "      <td>Travel</td>\n",
       "      <td>6</td>\n",
       "      <td>https://www.amazon.in/gp/bestsellers/books/131...</td>\n",
       "    </tr>\n",
       "  </tbody>\n",
       "</table>\n",
       "</div>"
      ],
      "text/plain": [
       "                                    Title  Number of Sub-genres  \\\n",
       "0                      Action & Adventure                     0   \n",
       "1                Arts, Film & Photography                    11   \n",
       "2    Biographies, Diaries & True Accounts                     3   \n",
       "3                    Business & Economics                     4   \n",
       "4                        Children's Books                    34   \n",
       "5                         Comics & Mangas                     2   \n",
       "6     Computing, Internet & Digital Media                    11   \n",
       "7                Crafts, Home & Lifestyle                     9   \n",
       "8               Crime, Thriller & Mystery                     3   \n",
       "9                             Engineering                    18   \n",
       "10                       Exam Preparation                    15   \n",
       "11      Fantasy, Horror & Science Fiction                     3   \n",
       "12  Health, Family & Personal Development                     4   \n",
       "13            Health, Fitness & Nutrition                     1   \n",
       "14             Higher Education Textbooks                    10   \n",
       "15                     Historical Fiction                     0   \n",
       "16                                History                     6   \n",
       "17                                 Humour                     0   \n",
       "18        Language, Linguistics & Writing                     7   \n",
       "19                                    Law                     6   \n",
       "20                   Literature & Fiction                    19   \n",
       "21                         Maps & Atlases                     0   \n",
       "22             Medicine & Health Sciences                    10   \n",
       "23                               Politics                     7   \n",
       "24                              Reference                     5   \n",
       "25                               Religion                    12   \n",
       "26                                Romance                    29   \n",
       "27                           School Books                     8   \n",
       "28                  Science & Mathematics                     9   \n",
       "29        Sciences, Technology & Medicine                    13   \n",
       "30              Society & Social Sciences                     7   \n",
       "31                                 Sports                    37   \n",
       "32                     Teen & Young Adult                    18   \n",
       "33               Textbooks & Study Guides                     2   \n",
       "34                                 Travel                     6   \n",
       "\n",
       "                                                  URL  \n",
       "0   https://www.amazon.in/gp/bestsellers/books/131...  \n",
       "1   https://www.amazon.in/gp/bestsellers/books/131...  \n",
       "2   https://www.amazon.in/gp/bestsellers/books/131...  \n",
       "3   https://www.amazon.in/gp/bestsellers/books/131...  \n",
       "4   https://www.amazon.in/gp/bestsellers/books/646...  \n",
       "5   https://www.amazon.in/gp/bestsellers/books/131...  \n",
       "6   https://www.amazon.in/gp/bestsellers/books/131...  \n",
       "7   https://www.amazon.in/gp/bestsellers/books/131...  \n",
       "8   https://www.amazon.in/gp/bestsellers/books/131...  \n",
       "9   https://www.amazon.in/gp/bestsellers/books/229...  \n",
       "10  https://www.amazon.in/gp/bestsellers/books/414...  \n",
       "11  https://www.amazon.in/gp/bestsellers/books/140...  \n",
       "12  https://www.amazon.in/gp/bestsellers/books/131...  \n",
       "13  https://www.amazon.in/gp/bestsellers/books/230...  \n",
       "14  https://www.amazon.in/gp/bestsellers/books/414...  \n",
       "15  https://www.amazon.in/gp/bestsellers/books/131...  \n",
       "16  https://www.amazon.in/gp/bestsellers/books/414...  \n",
       "17  https://www.amazon.in/gp/bestsellers/books/131...  \n",
       "18  https://www.amazon.in/gp/bestsellers/books/131...  \n",
       "19  https://www.amazon.in/gp/bestsellers/books/414...  \n",
       "20  https://www.amazon.in/gp/bestsellers/books/131...  \n",
       "21  https://www.amazon.in/gp/bestsellers/books/131...  \n",
       "22  https://www.amazon.in/gp/bestsellers/books/414...  \n",
       "23  https://www.amazon.in/gp/bestsellers/books/131...  \n",
       "24  https://www.amazon.in/gp/bestsellers/books/131...  \n",
       "25  https://www.amazon.in/gp/bestsellers/books/131...  \n",
       "26  https://www.amazon.in/gp/bestsellers/books/131...  \n",
       "27  https://www.amazon.in/gp/bestsellers/books/414...  \n",
       "28  https://www.amazon.in/gp/bestsellers/books/414...  \n",
       "29  https://www.amazon.in/gp/bestsellers/books/131...  \n",
       "30  https://www.amazon.in/gp/bestsellers/books/131...  \n",
       "31  https://www.amazon.in/gp/bestsellers/books/131...  \n",
       "32  https://www.amazon.in/gp/bestsellers/books/646...  \n",
       "33  https://www.amazon.in/gp/bestsellers/books/154...  \n",
       "34  https://www.amazon.in/gp/bestsellers/books/131...  "
      ]
     },
     "execution_count": 31,
     "metadata": {},
     "output_type": "execute_result"
    }
   ],
   "source": [
    "Genre_df"
   ]
  },
  {
   "cell_type": "code",
   "execution_count": 32,
   "id": "293c146e",
   "metadata": {},
   "outputs": [],
   "source": [
    "Genre_df.to_csv('Genre_df.csv',index=False)"
   ]
  },
  {
   "cell_type": "markdown",
   "id": "5df5c8f6",
   "metadata": {},
   "source": [
    "### Dataset 2\n",
    "A dataset of sub-genres, their main genre, number of books, url"
   ]
  },
  {
   "cell_type": "code",
   "execution_count": 33,
   "id": "07f6c322",
   "metadata": {},
   "outputs": [],
   "source": [
    "def subgenre(main_genre,url):\n",
    "    response=requests.get(url)\n",
    "    page_contents=response.text\n",
    "    doc=BeautifulSoup(page_contents, 'html.parser')\n",
    "    sub_genre_title_class='_p13n-zg-nav-tree-all_style_zg-browse-item__1rdKf _p13n-zg-nav-tree-all_style_zg-browse-height-large__1z5B8'\n",
    "    sub_genre_title_tags=doc.find_all('div',{'class':sub_genre_title_class})\n",
    "    sub_genre_title_tags=sub_genre_title_tags[1:]\n",
    "    \n",
    "    #extract all sub-genre\n",
    "    sub_genre=[]\n",
    "    if len(sub_genre_title_tags)!=35:\n",
    "        for tag in sub_genre_title_tags:\n",
    "            sub_genre.append(tag.find_all('a')[0].text)\n",
    "    \n",
    "    #extract sub-genre url's\n",
    "    sub_genre_url=[]\n",
    "    if len(sub_genre_title_tags)!=35:\n",
    "        for tag in sub_genre_title_tags:\n",
    "            sub_genre_url.append('https://www.amazon.in'+tag.find_all('a')[0]['href'])\n",
    "    \n",
    "    #extract number of books\n",
    "    no_books=[]\n",
    "    for i in range(0,len(sub_genre)):\n",
    "        no_books.append(100)\n",
    "    sub_genre\n",
    "    \n",
    "    #Adding main genre\n",
    "    mg=[]\n",
    "    for i in range(0,len(sub_genre)):\n",
    "        mg.append(main_genre)\n",
    "    \n",
    "    #make a dataframe\n",
    "    sub_genre_data={'Title':sub_genre,'Main Genre':mg,'No. of Books':no_books,'URLs':sub_genre_url}\n",
    "    sub_genre_df=pd.DataFrame(sub_genre_data)\n",
    "    return sub_genre_df\n",
    "\n",
    "# to Create an array of just urls\n",
    "def subg_url(main_genre,url):\n",
    "    response=requests.get(url)\n",
    "    page_contents=response.text\n",
    "    doc=BeautifulSoup(page_contents, 'html.parser')\n",
    "    sub_genre_title_class='_p13n-zg-nav-tree-all_style_zg-browse-item__1rdKf _p13n-zg-nav-tree-all_style_zg-browse-height-large__1z5B8'\n",
    "    sub_genre_title_tags=doc.find_all('div',{'class':sub_genre_title_class})\n",
    "    sub_genre_title_tags=sub_genre_title_tags[1:]\n",
    "    \n",
    "    #extract sub-genre url's\n",
    "    sub_genre_url=[]\n",
    "    if len(sub_genre_title_tags)!=35:\n",
    "        for tag in sub_genre_title_tags:\n",
    "            sub_genre_url.append('https://www.amazon.in'+tag.find_all('a')[0]['href'])\n",
    "    return sub_genre_url"
   ]
  },
  {
   "cell_type": "code",
   "execution_count": 34,
   "id": "9b8307f3",
   "metadata": {},
   "outputs": [],
   "source": [
    "data={'Title':[],'Main Genre':[],'No. of Books':[],'URLs':[]}\n",
    "SubGenre_df=pd.DataFrame(data)\n",
    "url=[]"
   ]
  },
  {
   "cell_type": "code",
   "execution_count": 35,
   "id": "940de7f8",
   "metadata": {},
   "outputs": [],
   "source": [
    "for i in range(0,len(genre_title)):\n",
    "    df=subgenre(genre_title[i],genre_url[i])\n",
    "    url.extend(subg_url(genre_title[i],genre_url[i]))\n",
    "    SubGenre_df=pd.concat([SubGenre_df, df], ignore_index=True)"
   ]
  },
  {
   "cell_type": "code",
   "execution_count": 36,
   "id": "e14ac96c",
   "metadata": {
    "scrolled": true
   },
   "outputs": [
    {
     "data": {
      "text/plain": [
       "329"
      ]
     },
     "execution_count": 36,
     "metadata": {},
     "output_type": "execute_result"
    }
   ],
   "source": [
    "len(url)"
   ]
  },
  {
   "cell_type": "code",
   "execution_count": 70,
   "id": "0370e254",
   "metadata": {},
   "outputs": [
    {
     "data": {
      "text/html": [
       "<div>\n",
       "<style scoped>\n",
       "    .dataframe tbody tr th:only-of-type {\n",
       "        vertical-align: middle;\n",
       "    }\n",
       "\n",
       "    .dataframe tbody tr th {\n",
       "        vertical-align: top;\n",
       "    }\n",
       "\n",
       "    .dataframe thead th {\n",
       "        text-align: right;\n",
       "    }\n",
       "</style>\n",
       "<table border=\"1\" class=\"dataframe\">\n",
       "  <thead>\n",
       "    <tr style=\"text-align: right;\">\n",
       "      <th></th>\n",
       "      <th>Title</th>\n",
       "      <th>Main Genre</th>\n",
       "      <th>No. of Books</th>\n",
       "      <th>URLs</th>\n",
       "    </tr>\n",
       "  </thead>\n",
       "  <tbody>\n",
       "    <tr>\n",
       "      <th>0</th>\n",
       "      <td>Architecture</td>\n",
       "      <td>Arts, Film &amp; Photography</td>\n",
       "      <td>100.0</td>\n",
       "      <td>https://www.amazon.in/gp/bestsellers/books/131...</td>\n",
       "    </tr>\n",
       "    <tr>\n",
       "      <th>1</th>\n",
       "      <td>Cinema &amp; Broadcast</td>\n",
       "      <td>Arts, Film &amp; Photography</td>\n",
       "      <td>100.0</td>\n",
       "      <td>https://www.amazon.in/gp/bestsellers/books/131...</td>\n",
       "    </tr>\n",
       "    <tr>\n",
       "      <th>2</th>\n",
       "      <td>Dance</td>\n",
       "      <td>Arts, Film &amp; Photography</td>\n",
       "      <td>100.0</td>\n",
       "      <td>https://www.amazon.in/gp/bestsellers/books/131...</td>\n",
       "    </tr>\n",
       "    <tr>\n",
       "      <th>3</th>\n",
       "      <td>Design &amp; Fashion</td>\n",
       "      <td>Arts, Film &amp; Photography</td>\n",
       "      <td>100.0</td>\n",
       "      <td>https://www.amazon.in/gp/bestsellers/books/131...</td>\n",
       "    </tr>\n",
       "    <tr>\n",
       "      <th>4</th>\n",
       "      <td>Museums &amp; Museology</td>\n",
       "      <td>Arts, Film &amp; Photography</td>\n",
       "      <td>100.0</td>\n",
       "      <td>https://www.amazon.in/gp/bestsellers/books/131...</td>\n",
       "    </tr>\n",
       "    <tr>\n",
       "      <th>...</th>\n",
       "      <td>...</td>\n",
       "      <td>...</td>\n",
       "      <td>...</td>\n",
       "      <td>...</td>\n",
       "    </tr>\n",
       "    <tr>\n",
       "      <th>324</th>\n",
       "      <td>Illustrated Books</td>\n",
       "      <td>Travel</td>\n",
       "      <td>100.0</td>\n",
       "      <td>https://www.amazon.in/gp/bestsellers/books/131...</td>\n",
       "    </tr>\n",
       "    <tr>\n",
       "      <th>325</th>\n",
       "      <td>Specialty Travel</td>\n",
       "      <td>Travel</td>\n",
       "      <td>100.0</td>\n",
       "      <td>https://www.amazon.in/gp/bestsellers/books/145...</td>\n",
       "    </tr>\n",
       "    <tr>\n",
       "      <th>326</th>\n",
       "      <td>Transport</td>\n",
       "      <td>Travel</td>\n",
       "      <td>100.0</td>\n",
       "      <td>https://www.amazon.in/gp/bestsellers/books/229...</td>\n",
       "    </tr>\n",
       "    <tr>\n",
       "      <th>327</th>\n",
       "      <td>Travel &amp; Holiday Guides</td>\n",
       "      <td>Travel</td>\n",
       "      <td>100.0</td>\n",
       "      <td>https://www.amazon.in/gp/bestsellers/books/131...</td>\n",
       "    </tr>\n",
       "    <tr>\n",
       "      <th>328</th>\n",
       "      <td>Travel Writing</td>\n",
       "      <td>Travel</td>\n",
       "      <td>100.0</td>\n",
       "      <td>https://www.amazon.in/gp/bestsellers/books/131...</td>\n",
       "    </tr>\n",
       "  </tbody>\n",
       "</table>\n",
       "<p>329 rows × 4 columns</p>\n",
       "</div>"
      ],
      "text/plain": [
       "                       Title                Main Genre  No. of Books  \\\n",
       "0               Architecture  Arts, Film & Photography         100.0   \n",
       "1         Cinema & Broadcast  Arts, Film & Photography         100.0   \n",
       "2                      Dance  Arts, Film & Photography         100.0   \n",
       "3           Design & Fashion  Arts, Film & Photography         100.0   \n",
       "4        Museums & Museology  Arts, Film & Photography         100.0   \n",
       "..                       ...                       ...           ...   \n",
       "324        Illustrated Books                    Travel         100.0   \n",
       "325         Specialty Travel                    Travel         100.0   \n",
       "326                Transport                    Travel         100.0   \n",
       "327  Travel & Holiday Guides                    Travel         100.0   \n",
       "328           Travel Writing                    Travel         100.0   \n",
       "\n",
       "                                                  URLs  \n",
       "0    https://www.amazon.in/gp/bestsellers/books/131...  \n",
       "1    https://www.amazon.in/gp/bestsellers/books/131...  \n",
       "2    https://www.amazon.in/gp/bestsellers/books/131...  \n",
       "3    https://www.amazon.in/gp/bestsellers/books/131...  \n",
       "4    https://www.amazon.in/gp/bestsellers/books/131...  \n",
       "..                                                 ...  \n",
       "324  https://www.amazon.in/gp/bestsellers/books/131...  \n",
       "325  https://www.amazon.in/gp/bestsellers/books/145...  \n",
       "326  https://www.amazon.in/gp/bestsellers/books/229...  \n",
       "327  https://www.amazon.in/gp/bestsellers/books/131...  \n",
       "328  https://www.amazon.in/gp/bestsellers/books/131...  \n",
       "\n",
       "[329 rows x 4 columns]"
      ]
     },
     "execution_count": 70,
     "metadata": {},
     "output_type": "execute_result"
    }
   ],
   "source": [
    "SubGenre_df"
   ]
  },
  {
   "cell_type": "code",
   "execution_count": 38,
   "id": "84a6b990",
   "metadata": {},
   "outputs": [],
   "source": [
    "SubGenre_df.to_csv('Sub_Genre_df.csv',index=False)"
   ]
  },
  {
   "cell_type": "markdown",
   "id": "fcce435d",
   "metadata": {},
   "source": [
    "### Dataset 3\n",
    "A dataset of books with their title, author/publication, genre, sub-genre, type(paperback/kindle/audiobook/hardcover), price, rating, number of people rated, url."
   ]
  },
  {
   "cell_type": "code",
   "execution_count": 39,
   "id": "36b8a607",
   "metadata": {},
   "outputs": [],
   "source": [
    "def Books(main_genre,sub_genre,sub_genre_url):\n",
    "        response=requests.get(sub_genre_url)\n",
    "        page_contents=response.text\n",
    "        doc=BeautifulSoup(page_contents, 'html.parser')\n",
    "\n",
    "        #book title\n",
    "        book_title_class='p13n-sc-uncoverable-faceout'\n",
    "        parent_tag=doc.find_all('div',class_=book_title_class)\n",
    "        book_title=[]\n",
    "        for tag in parent_tag:\n",
    "            book_title.append(tag.find_all('a')[1].find('div').text)\n",
    "\n",
    "        #book author\n",
    "        book_author_div_class='a-row a-size-small'\n",
    "        parent_tag2=doc.find_all('div',class_=book_author_div_class)\n",
    "        div_tag=[]\n",
    "        for tag in parent_tag2:\n",
    "            div_tag.append(tag.find('div'))\n",
    "        book_author=[]\n",
    "        for i in range(0,len(div_tag),2):\n",
    "            author = div_tag[i].text \n",
    "            book_author.append(author)\n",
    "\n",
    "\n",
    "        #main genre\n",
    "        mg2=[]\n",
    "        for i in range(0,len(book_title)):\n",
    "            mg2.append(main_genre)\n",
    "\n",
    "        #sub genre\n",
    "        sg2=[]\n",
    "        for i in range(0,len(book_title)):\n",
    "            sg2.append(sub_genre)\n",
    "\n",
    "        #book type\n",
    "        book_type_class='a-size-small a-color-secondary a-text-normal'\n",
    "        book_type_tag=doc.find_all('span',class_=book_type_class)\n",
    "        book_type=[]\n",
    "        for tag in book_type_tag:\n",
    "            book_type.append(tag.text)\n",
    "\n",
    "        #price\n",
    "        book_price=[]\n",
    "        for tag in parent_tag:\n",
    "            book_price.append(tag.find_all('span',class_='p13n-sc-price')[0].text)\n",
    "\n",
    "\n",
    "        #rating\n",
    "        rating_tag=[]\n",
    "        for tag in parent_tag:\n",
    "            if(tag.find('i')!= []):\n",
    "                rating_tag.append(tag.find('i'))\n",
    "        rating=[]\n",
    "        for i in range(0,len(rating_tag)):\n",
    "            if rating_tag[i] != None:\n",
    "                rating.append(float(rating_tag[i].text.split()[0]))\n",
    "            else:\n",
    "                rating.append(0)\n",
    "\n",
    "        #no of people rated\n",
    "        npr_class='a-size-small'\n",
    "        npr_tag=doc.select('span.a-size-small:not([class*=\" \"])')\n",
    "        npr=[]\n",
    "        for i in range(0,len(rating)):\n",
    "            if(rating[i]==0):\n",
    "                npr_tag.insert(i,0)\n",
    "            else:\n",
    "                continue\n",
    "\n",
    "        for i in range(0,len(npr_tag)):\n",
    "            if(npr_tag[i]==0):\n",
    "                npr.append(0)\n",
    "            else:\n",
    "                npr.append(int(npr_tag[i].text.replace(',','')))\n",
    "\n",
    "\n",
    "        #URLs\n",
    "        book_url=[]\n",
    "        for tag in parent_tag:\n",
    "            book_url.append('https://www.amazon.in' + tag.find_all('a')[1]['href'])\n",
    "\n",
    "        #make a dataframe\n",
    "        data={'Title':book_title,'Author':book_author,'Main Genre':mg2,'Sub Genre':sg2,'Type':book_type,'Price':book_price,'Rating':rating,'No. of People rated':npr,'URLs':book_url}\n",
    "        book_df=pd.DataFrame(data)\n",
    "        return book_df"
   ]
  },
  {
   "cell_type": "code",
   "execution_count": 63,
   "id": "12138a89",
   "metadata": {},
   "outputs": [],
   "source": [
    "Book_data={'Title':[],'Author':[],'Main Genre':[],'Sub Genre':[],'Type':[],'Price':[],'Rating':[],'No. of People rated':[],'URLs':[]}\n",
    "Book_df=pd.DataFrame(Book_data)\n",
    "\n",
    "for index, row in SubGenre_df.iterrows():\n",
    "    main_genre = row['Main Genre']\n",
    "    sub_genre = row['Title']\n",
    "    ur = url[index] \n",
    "    \n",
    "    try:\n",
    "        df = Books(main_genre, sub_genre, ur)\n",
    "        Book_df=pd.concat([Book_df, df])\n",
    "        \n",
    "    except:\n",
    "        continue"
   ]
  },
  {
   "cell_type": "code",
   "execution_count": 66,
   "id": "b8615d39",
   "metadata": {},
   "outputs": [
    {
     "data": {
      "text/html": [
       "<div>\n",
       "<style scoped>\n",
       "    .dataframe tbody tr th:only-of-type {\n",
       "        vertical-align: middle;\n",
       "    }\n",
       "\n",
       "    .dataframe tbody tr th {\n",
       "        vertical-align: top;\n",
       "    }\n",
       "\n",
       "    .dataframe thead th {\n",
       "        text-align: right;\n",
       "    }\n",
       "</style>\n",
       "<table border=\"1\" class=\"dataframe\">\n",
       "  <thead>\n",
       "    <tr style=\"text-align: right;\">\n",
       "      <th></th>\n",
       "      <th>Title</th>\n",
       "      <th>Author</th>\n",
       "      <th>Main Genre</th>\n",
       "      <th>Sub Genre</th>\n",
       "      <th>Type</th>\n",
       "      <th>Price</th>\n",
       "      <th>Rating</th>\n",
       "      <th>No. of People rated</th>\n",
       "      <th>URLs</th>\n",
       "    </tr>\n",
       "  </thead>\n",
       "  <tbody>\n",
       "    <tr>\n",
       "      <th>0</th>\n",
       "      <td>The Complete Novel of Sherlock Holmes</td>\n",
       "      <td>Arthur Conan Doyle</td>\n",
       "      <td>Arts, Film &amp; Photography</td>\n",
       "      <td>Cinema &amp; Broadcast</td>\n",
       "      <td>Paperback</td>\n",
       "      <td>₹169.00</td>\n",
       "      <td>4.4</td>\n",
       "      <td>19923.0</td>\n",
       "      <td>https://www.amazon.in/Complete-Novels-Sherlock...</td>\n",
       "    </tr>\n",
       "    <tr>\n",
       "      <th>1</th>\n",
       "      <td>Black Holes (L) : The Reith Lectures [Paperbac...</td>\n",
       "      <td>Stephen Hawking</td>\n",
       "      <td>Arts, Film &amp; Photography</td>\n",
       "      <td>Cinema &amp; Broadcast</td>\n",
       "      <td>Paperback</td>\n",
       "      <td>₹99.00</td>\n",
       "      <td>4.5</td>\n",
       "      <td>7686.0</td>\n",
       "      <td>https://www.amazon.in/Black-Holes-Lectures-Ste...</td>\n",
       "    </tr>\n",
       "    <tr>\n",
       "      <th>2</th>\n",
       "      <td>The Kite Runner</td>\n",
       "      <td>Khaled Hosseini</td>\n",
       "      <td>Arts, Film &amp; Photography</td>\n",
       "      <td>Cinema &amp; Broadcast</td>\n",
       "      <td>Kindle Edition</td>\n",
       "      <td>₹175.75</td>\n",
       "      <td>4.6</td>\n",
       "      <td>50016.0</td>\n",
       "      <td>https://www.amazon.in/Kite-Runner-Khaled-Hosse...</td>\n",
       "    </tr>\n",
       "    <tr>\n",
       "      <th>3</th>\n",
       "      <td>Greenlights: Raucous stories and outlaw wisdom...</td>\n",
       "      <td>Matthew McConaughey</td>\n",
       "      <td>Arts, Film &amp; Photography</td>\n",
       "      <td>Cinema &amp; Broadcast</td>\n",
       "      <td>Paperback</td>\n",
       "      <td>₹389.00</td>\n",
       "      <td>4.6</td>\n",
       "      <td>32040.0</td>\n",
       "      <td>https://www.amazon.in/Greenlights-Raucous-stor...</td>\n",
       "    </tr>\n",
       "    <tr>\n",
       "      <th>4</th>\n",
       "      <td>The Science of Storytelling: Why Stories Make ...</td>\n",
       "      <td>Will Storr</td>\n",
       "      <td>Arts, Film &amp; Photography</td>\n",
       "      <td>Cinema &amp; Broadcast</td>\n",
       "      <td>Paperback</td>\n",
       "      <td>₹348.16</td>\n",
       "      <td>4.5</td>\n",
       "      <td>1707.0</td>\n",
       "      <td>https://www.amazon.in/Science-Storytelling-Wil...</td>\n",
       "    </tr>\n",
       "    <tr>\n",
       "      <th>...</th>\n",
       "      <td>...</td>\n",
       "      <td>...</td>\n",
       "      <td>...</td>\n",
       "      <td>...</td>\n",
       "      <td>...</td>\n",
       "      <td>...</td>\n",
       "      <td>...</td>\n",
       "      <td>...</td>\n",
       "      <td>...</td>\n",
       "    </tr>\n",
       "    <tr>\n",
       "      <th>45</th>\n",
       "      <td>Insight Guides Poland (Travel Guide with Free ...</td>\n",
       "      <td>Insight Travel Guide</td>\n",
       "      <td>Travel</td>\n",
       "      <td>Travel &amp; Holiday Guides</td>\n",
       "      <td>Paperback</td>\n",
       "      <td>₹1,326.00</td>\n",
       "      <td>4.7</td>\n",
       "      <td>16.0</td>\n",
       "      <td>https://www.amazon.in/Insight-Guides-Poland-Tr...</td>\n",
       "    </tr>\n",
       "    <tr>\n",
       "      <th>46</th>\n",
       "      <td>Lonely Planet India 19 (Travel Guide)</td>\n",
       "      <td>Anirban Mahapatra</td>\n",
       "      <td>Travel</td>\n",
       "      <td>Travel &amp; Holiday Guides</td>\n",
       "      <td>Paperback</td>\n",
       "      <td>₹850.00</td>\n",
       "      <td>4.4</td>\n",
       "      <td>187.0</td>\n",
       "      <td>https://www.amazon.in/Lonely-Planet-India-Trav...</td>\n",
       "    </tr>\n",
       "    <tr>\n",
       "      <th>47</th>\n",
       "      <td>Eyewitness Travel Phrase Book French (EW Trave...</td>\n",
       "      <td>DK</td>\n",
       "      <td>Travel</td>\n",
       "      <td>Travel &amp; Holiday Guides</td>\n",
       "      <td>Paperback</td>\n",
       "      <td>₹307.00</td>\n",
       "      <td>4.5</td>\n",
       "      <td>168.0</td>\n",
       "      <td>https://www.amazon.in/Eyewitness-Travel-Phrase...</td>\n",
       "    </tr>\n",
       "    <tr>\n",
       "      <th>48</th>\n",
       "      <td>Lonely Planet Australia (Travel Guide)</td>\n",
       "      <td>Andrew Bain</td>\n",
       "      <td>Travel</td>\n",
       "      <td>Travel &amp; Holiday Guides</td>\n",
       "      <td>Kindle Edition</td>\n",
       "      <td>₹1,814.50</td>\n",
       "      <td>4.7</td>\n",
       "      <td>267.0</td>\n",
       "      <td>https://www.amazon.in/Lonely-Planet-Australia-...</td>\n",
       "    </tr>\n",
       "    <tr>\n",
       "      <th>49</th>\n",
       "      <td>Political Map of India Latest Map of India Wit...</td>\n",
       "      <td>Wonder House Books</td>\n",
       "      <td>Travel</td>\n",
       "      <td>Travel &amp; Holiday Guides</td>\n",
       "      <td>Poster</td>\n",
       "      <td>₹99.00</td>\n",
       "      <td>3.9</td>\n",
       "      <td>48.0</td>\n",
       "      <td>https://www.amazon.in/Political-Map-India-Terr...</td>\n",
       "    </tr>\n",
       "  </tbody>\n",
       "</table>\n",
       "<p>7928 rows × 9 columns</p>\n",
       "</div>"
      ],
      "text/plain": [
       "                                                Title                Author  \\\n",
       "0               The Complete Novel of Sherlock Holmes    Arthur Conan Doyle   \n",
       "1   Black Holes (L) : The Reith Lectures [Paperbac...       Stephen Hawking   \n",
       "2                                     The Kite Runner       Khaled Hosseini   \n",
       "3   Greenlights: Raucous stories and outlaw wisdom...   Matthew McConaughey   \n",
       "4   The Science of Storytelling: Why Stories Make ...            Will Storr   \n",
       "..                                                ...                   ...   \n",
       "45  Insight Guides Poland (Travel Guide with Free ...  Insight Travel Guide   \n",
       "46              Lonely Planet India 19 (Travel Guide)     Anirban Mahapatra   \n",
       "47  Eyewitness Travel Phrase Book French (EW Trave...                    DK   \n",
       "48             Lonely Planet Australia (Travel Guide)           Andrew Bain   \n",
       "49  Political Map of India Latest Map of India Wit...    Wonder House Books   \n",
       "\n",
       "                  Main Genre                Sub Genre            Type  \\\n",
       "0   Arts, Film & Photography       Cinema & Broadcast       Paperback   \n",
       "1   Arts, Film & Photography       Cinema & Broadcast       Paperback   \n",
       "2   Arts, Film & Photography       Cinema & Broadcast  Kindle Edition   \n",
       "3   Arts, Film & Photography       Cinema & Broadcast       Paperback   \n",
       "4   Arts, Film & Photography       Cinema & Broadcast       Paperback   \n",
       "..                       ...                      ...             ...   \n",
       "45                    Travel  Travel & Holiday Guides       Paperback   \n",
       "46                    Travel  Travel & Holiday Guides       Paperback   \n",
       "47                    Travel  Travel & Holiday Guides       Paperback   \n",
       "48                    Travel  Travel & Holiday Guides  Kindle Edition   \n",
       "49                    Travel  Travel & Holiday Guides          Poster   \n",
       "\n",
       "        Price  Rating  No. of People rated  \\\n",
       "0     ₹169.00     4.4              19923.0   \n",
       "1      ₹99.00     4.5               7686.0   \n",
       "2     ₹175.75     4.6              50016.0   \n",
       "3     ₹389.00     4.6              32040.0   \n",
       "4     ₹348.16     4.5               1707.0   \n",
       "..        ...     ...                  ...   \n",
       "45  ₹1,326.00     4.7                 16.0   \n",
       "46    ₹850.00     4.4                187.0   \n",
       "47    ₹307.00     4.5                168.0   \n",
       "48  ₹1,814.50     4.7                267.0   \n",
       "49     ₹99.00     3.9                 48.0   \n",
       "\n",
       "                                                 URLs  \n",
       "0   https://www.amazon.in/Complete-Novels-Sherlock...  \n",
       "1   https://www.amazon.in/Black-Holes-Lectures-Ste...  \n",
       "2   https://www.amazon.in/Kite-Runner-Khaled-Hosse...  \n",
       "3   https://www.amazon.in/Greenlights-Raucous-stor...  \n",
       "4   https://www.amazon.in/Science-Storytelling-Wil...  \n",
       "..                                                ...  \n",
       "45  https://www.amazon.in/Insight-Guides-Poland-Tr...  \n",
       "46  https://www.amazon.in/Lonely-Planet-India-Trav...  \n",
       "47  https://www.amazon.in/Eyewitness-Travel-Phrase...  \n",
       "48  https://www.amazon.in/Lonely-Planet-Australia-...  \n",
       "49  https://www.amazon.in/Political-Map-India-Terr...  \n",
       "\n",
       "[7928 rows x 9 columns]"
      ]
     },
     "execution_count": 66,
     "metadata": {},
     "output_type": "execute_result"
    }
   ],
   "source": [
    "Book_df"
   ]
  },
  {
   "cell_type": "code",
   "execution_count": 67,
   "id": "963ed337",
   "metadata": {},
   "outputs": [],
   "source": [
    "Book_df = Book_df.reset_index(drop=True)"
   ]
  },
  {
   "cell_type": "code",
   "execution_count": 69,
   "id": "99cad946",
   "metadata": {},
   "outputs": [],
   "source": [
    "Book_df.to_csv(\"Books_df.csv\")"
   ]
  }
 ],
 "metadata": {
  "kernelspec": {
   "display_name": "Python 3 (ipykernel)",
   "language": "python",
   "name": "python3"
  },
  "language_info": {
   "codemirror_mode": {
    "name": "ipython",
    "version": 3
   },
   "file_extension": ".py",
   "mimetype": "text/x-python",
   "name": "python",
   "nbconvert_exporter": "python",
   "pygments_lexer": "ipython3",
   "version": "3.11.5"
  }
 },
 "nbformat": 4,
 "nbformat_minor": 5
}
