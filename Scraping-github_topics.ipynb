{
 "cells": [
  {
   "cell_type": "markdown",
   "id": "18d9b407",
   "metadata": {},
   "source": [
    "# Scraping the Top Respositories for Topics on Github\n",
    "\n",
    "#### Web Scraping \n",
    "Web scraping is a technique used to extract information or data from websites. Web scraping is commonly employed for various purposes, including data mining, market research, price comparison, content aggregation, and more.\n",
    "\n",
    "#### Problem Statement\n",
    "We'll scrape information from https://github.com/topics, extracting topic titles, descriptions, and URLs. Additionally, we'll extend the scraping to individual pages to gather repository names, usernames, star counts, and corresponding URLs.\n",
    "\n",
    "#### Tools used\n",
    "\n",
    "1. Python\n",
    "2. Requests: It is an HTTP client library it simplifies the process of sending and receiving data from websites by providing a uniform interface for both GET and POST methods.\n",
    "    + documentation: https://requests.readthedocs.io/en/latest/ \n",
    "3. Beautiful Soup: It is a Python package for parsing HTML and XML documents.\n",
    "    + documentation: https://beautiful-soup-4.readthedocs.io/en/latest/ \n",
    "4. Pandas: a software library for data manipulation and analysis.\n",
    "    + documentation: https://pandas.pydata.org/docs/getting_started/install.html"
   ]
  },
  {
   "cell_type": "markdown",
   "id": "d75fc71c",
   "metadata": {},
   "source": [
    "#### Project Outline:\n",
    "1. We are going to scrap - https://github.com/topics\n",
    "2. we'll get a list of topics. For each topic, we'll get topic title, topic page URL and topic description\n",
    "3. For each topic, we'll get the top 25 repositories in the topic from the topic page\n",
    "4. For each repo, we'll grab the repo name, username, stars and repo URL\n",
    "5. For each topic we'll create a CSV file in the following format:\n",
    "\n",
    "```\n",
    "Name,Username,Likes,URL\n",
    "three.js,mrdoob,97100,https://github.com/mrdoob/three.js\n",
    "react-three-fiber,pmndrs,25100,https://github.com/pmndrs/react-three-fiber\n",
    "libgdx,libgdx,22400,https://github.com/libgdx/libgdx\n",
    "```"
   ]
  },
  {
   "cell_type": "markdown",
   "id": "59eb12e0",
   "metadata": {},
   "source": [
    "## Scrape the list of topics from github\n",
    "Steps Involved:\n",
    "- use requests to download the page\n",
    "- user BS4 to parse the extract information\n",
    "- convert to a pandas dataframe"
   ]
  },
  {
   "cell_type": "code",
   "execution_count": 50,
   "id": "2faa152d",
   "metadata": {},
   "outputs": [],
   "source": [
    "import requests\n",
    "from bs4 import BeautifulSoup\n",
    "import pandas as pd\n",
    "import os\n",
    "\n",
    "def get_topics_page():\n",
    "    #Download page using request library\n",
    "    topic_url='https://github.com/topics'\n",
    "    response=requests.get(topic_url)\n",
    "    \n",
    "    #check successful response\n",
    "    if response.status_code!=200:\n",
    "        raise Exception('Failed to load page {}'.format(topic_url))\n",
    "    doc=BeautifulSoup(response.text,'html.parser')\n",
    "    \n",
    "    #return BeautifulSoup object\n",
    "    return doc"
   ]
  },
  {
   "cell_type": "code",
   "execution_count": 4,
   "id": "f6a7cb6f",
   "metadata": {},
   "outputs": [],
   "source": [
    "doc=get_topics_page()"
   ]
  },
  {
   "cell_type": "code",
   "execution_count": 5,
   "id": "c177df6e",
   "metadata": {},
   "outputs": [
    {
     "data": {
      "text/plain": [
       "bs4.BeautifulSoup"
      ]
     },
     "execution_count": 5,
     "metadata": {},
     "output_type": "execute_result"
    }
   ],
   "source": [
    "type(doc)"
   ]
  },
  {
   "cell_type": "markdown",
   "id": "a3d3b691",
   "metadata": {},
   "source": [
    "Let's create some helper function to parse information from the page.\n",
    "\n",
    "Example, to get topic titles, we can pick `p` tag with the `class`...\n",
    "![](https://i.imgur.com/Hp36onc.png)"
   ]
  },
  {
   "cell_type": "code",
   "execution_count": 29,
   "id": "b9b9556e",
   "metadata": {},
   "outputs": [],
   "source": [
    "def get_topic_title(doc):\n",
    "    topic_title_class='f3 lh-condensed mb-0 mt-1 Link--primary'\n",
    "    topic_title_tags=doc.find_all('p',{'class':topic_title_class})\n",
    "    topic_titles=[]\n",
    "    for tag in topic_title_tags:\n",
    "        topic_titles.append(tag.text)\n",
    "    return topic_titles\n"
   ]
  },
  {
   "cell_type": "markdown",
   "id": "5d5cd883",
   "metadata": {},
   "source": [
    "`get_topic_title()` can be used to extract the list of topic titles on our page"
   ]
  },
  {
   "cell_type": "code",
   "execution_count": 7,
   "id": "4754c660",
   "metadata": {},
   "outputs": [],
   "source": [
    "topic_title=get_topic_title(doc)"
   ]
  },
  {
   "cell_type": "code",
   "execution_count": 15,
   "id": "f6cd77c4",
   "metadata": {},
   "outputs": [
    {
     "data": {
      "text/plain": [
       "30"
      ]
     },
     "execution_count": 15,
     "metadata": {},
     "output_type": "execute_result"
    }
   ],
   "source": [
    "len(topic_title)"
   ]
  },
  {
   "cell_type": "code",
   "execution_count": 12,
   "id": "f4ba65d9",
   "metadata": {},
   "outputs": [
    {
     "data": {
      "text/plain": [
       "['3D', 'Ajax', 'Algorithm', 'Amp', 'Android']"
      ]
     },
     "execution_count": 12,
     "metadata": {},
     "output_type": "execute_result"
    }
   ],
   "source": [
    "topic_title[:5]"
   ]
  },
  {
   "cell_type": "markdown",
   "id": "953f6e63",
   "metadata": {},
   "source": [
    "Similarly we'll do all the above steps to extract description and URLs"
   ]
  },
  {
   "cell_type": "code",
   "execution_count": 30,
   "id": "64f50807",
   "metadata": {},
   "outputs": [],
   "source": [
    "def get_topic_desc(doc):\n",
    "    topic_desc_class='f5 color-fg-muted mb-0 mt-1'\n",
    "    topic_desc_tags=doc.find_all('p',class_=topic_desc_class)\n",
    "    topic_desc=[]\n",
    "    for tag in topic_desc_tags:\n",
    "        topic_desc.append(tag.text.strip())\n",
    "    return topic_desc"
   ]
  },
  {
   "cell_type": "markdown",
   "id": "4e308534",
   "metadata": {},
   "source": [
    "`get_topic_desc()` is used to get the Topic description from the page."
   ]
  },
  {
   "cell_type": "code",
   "execution_count": 9,
   "id": "c3143f73",
   "metadata": {},
   "outputs": [],
   "source": [
    "topic_desc=get_topic_desc(doc)"
   ]
  },
  {
   "cell_type": "code",
   "execution_count": 16,
   "id": "fa4e0e0b",
   "metadata": {},
   "outputs": [
    {
     "data": {
      "text/plain": [
       "30"
      ]
     },
     "execution_count": 16,
     "metadata": {},
     "output_type": "execute_result"
    }
   ],
   "source": [
    "len(topic_desc)"
   ]
  },
  {
   "cell_type": "code",
   "execution_count": 11,
   "id": "aaf3d924",
   "metadata": {},
   "outputs": [
    {
     "data": {
      "text/plain": [
       "['3D refers to the use of three-dimensional graphics, modeling, and animation in various industries.',\n",
       " 'Ajax is a technique for creating interactive web applications.',\n",
       " 'Algorithms are self-contained sequences that carry out a variety of tasks.',\n",
       " 'Amp is a non-blocking concurrency library for PHP.',\n",
       " 'Android is an operating system built by Google designed for mobile devices.']"
      ]
     },
     "execution_count": 11,
     "metadata": {},
     "output_type": "execute_result"
    }
   ],
   "source": [
    "topic_desc[:5]"
   ]
  },
  {
   "cell_type": "code",
   "execution_count": 31,
   "id": "6f1a681c",
   "metadata": {},
   "outputs": [],
   "source": [
    "def get_topic_urls(doc):\n",
    "    topic_link_class='no-underline flex-1 d-flex flex-column'\n",
    "    topic_link_tags=doc.find_all('a',class_=topic_link_class)\n",
    "    topic_links=[]\n",
    "    for tag in topic_link_tags:\n",
    "        topic_links.append(\"https://github.com\" + tag['href'])\n",
    "    return topic_links"
   ]
  },
  {
   "cell_type": "markdown",
   "id": "a97bd55e",
   "metadata": {},
   "source": [
    "`get_topic_urls()` is used to get URLs for each topic webpage."
   ]
  },
  {
   "cell_type": "code",
   "execution_count": 13,
   "id": "208774af",
   "metadata": {},
   "outputs": [],
   "source": [
    "topic_url=get_topic_urls(doc)"
   ]
  },
  {
   "cell_type": "code",
   "execution_count": 17,
   "id": "8ef65ec0",
   "metadata": {},
   "outputs": [
    {
     "data": {
      "text/plain": [
       "30"
      ]
     },
     "execution_count": 17,
     "metadata": {},
     "output_type": "execute_result"
    }
   ],
   "source": [
    "len(topic_url)"
   ]
  },
  {
   "cell_type": "code",
   "execution_count": 14,
   "id": "b44fdc4f",
   "metadata": {},
   "outputs": [
    {
     "data": {
      "text/plain": [
       "['https://github.com/topics/3d',\n",
       " 'https://github.com/topics/ajax',\n",
       " 'https://github.com/topics/algorithm',\n",
       " 'https://github.com/topics/amphp',\n",
       " 'https://github.com/topics/android']"
      ]
     },
     "execution_count": 14,
     "metadata": {},
     "output_type": "execute_result"
    }
   ],
   "source": [
    "topic_url[:5]"
   ]
  },
  {
   "cell_type": "markdown",
   "id": "71af2ce6",
   "metadata": {},
   "source": [
    "Let's put this all together in a single function"
   ]
  },
  {
   "cell_type": "code",
   "execution_count": 32,
   "id": "9e683989",
   "metadata": {},
   "outputs": [],
   "source": [
    "def scrape_topics():\n",
    "    topic_url='https://github.com/topics'\n",
    "    response=requests.get(topic_url)\n",
    "    if response.status_code!=200:\n",
    "        raise Exception('Failed to load page {}'.format(topic_url))\n",
    "    doc=BeautifulSoup(response.text,'html.parser')\n",
    "    topic_dict={\n",
    "        'title':get_topic_title(doc),\n",
    "        'description':get_topic_desc(doc),\n",
    "        'url':get_topic_urls(doc)\n",
    "    }\n",
    "    return pd.DataFrame(topic_dict)"
   ]
  },
  {
   "cell_type": "code",
   "execution_count": 36,
   "id": "0619122e",
   "metadata": {},
   "outputs": [
    {
     "data": {
      "text/html": [
       "<div>\n",
       "<style scoped>\n",
       "    .dataframe tbody tr th:only-of-type {\n",
       "        vertical-align: middle;\n",
       "    }\n",
       "\n",
       "    .dataframe tbody tr th {\n",
       "        vertical-align: top;\n",
       "    }\n",
       "\n",
       "    .dataframe thead th {\n",
       "        text-align: right;\n",
       "    }\n",
       "</style>\n",
       "<table border=\"1\" class=\"dataframe\">\n",
       "  <thead>\n",
       "    <tr style=\"text-align: right;\">\n",
       "      <th></th>\n",
       "      <th>title</th>\n",
       "      <th>description</th>\n",
       "      <th>url</th>\n",
       "    </tr>\n",
       "  </thead>\n",
       "  <tbody>\n",
       "    <tr>\n",
       "      <th>0</th>\n",
       "      <td>3D</td>\n",
       "      <td>3D refers to the use of three-dimensional grap...</td>\n",
       "      <td>https://github.com/topics/3d</td>\n",
       "    </tr>\n",
       "    <tr>\n",
       "      <th>1</th>\n",
       "      <td>Ajax</td>\n",
       "      <td>Ajax is a technique for creating interactive w...</td>\n",
       "      <td>https://github.com/topics/ajax</td>\n",
       "    </tr>\n",
       "    <tr>\n",
       "      <th>2</th>\n",
       "      <td>Algorithm</td>\n",
       "      <td>Algorithms are self-contained sequences that c...</td>\n",
       "      <td>https://github.com/topics/algorithm</td>\n",
       "    </tr>\n",
       "    <tr>\n",
       "      <th>3</th>\n",
       "      <td>Amp</td>\n",
       "      <td>Amp is a non-blocking concurrency library for ...</td>\n",
       "      <td>https://github.com/topics/amphp</td>\n",
       "    </tr>\n",
       "    <tr>\n",
       "      <th>4</th>\n",
       "      <td>Android</td>\n",
       "      <td>Android is an operating system built by Google...</td>\n",
       "      <td>https://github.com/topics/android</td>\n",
       "    </tr>\n",
       "    <tr>\n",
       "      <th>5</th>\n",
       "      <td>Angular</td>\n",
       "      <td>Angular is an open source web application plat...</td>\n",
       "      <td>https://github.com/topics/angular</td>\n",
       "    </tr>\n",
       "    <tr>\n",
       "      <th>6</th>\n",
       "      <td>Ansible</td>\n",
       "      <td>Ansible is a simple and powerful automation en...</td>\n",
       "      <td>https://github.com/topics/ansible</td>\n",
       "    </tr>\n",
       "    <tr>\n",
       "      <th>7</th>\n",
       "      <td>API</td>\n",
       "      <td>An API (Application Programming Interface) is ...</td>\n",
       "      <td>https://github.com/topics/api</td>\n",
       "    </tr>\n",
       "    <tr>\n",
       "      <th>8</th>\n",
       "      <td>Arduino</td>\n",
       "      <td>Arduino is an open source platform for buildin...</td>\n",
       "      <td>https://github.com/topics/arduino</td>\n",
       "    </tr>\n",
       "    <tr>\n",
       "      <th>9</th>\n",
       "      <td>ASP.NET</td>\n",
       "      <td>ASP.NET is a web framework for building modern...</td>\n",
       "      <td>https://github.com/topics/aspnet</td>\n",
       "    </tr>\n",
       "  </tbody>\n",
       "</table>\n",
       "</div>"
      ],
      "text/plain": [
       "       title                                        description  \\\n",
       "0         3D  3D refers to the use of three-dimensional grap...   \n",
       "1       Ajax  Ajax is a technique for creating interactive w...   \n",
       "2  Algorithm  Algorithms are self-contained sequences that c...   \n",
       "3        Amp  Amp is a non-blocking concurrency library for ...   \n",
       "4    Android  Android is an operating system built by Google...   \n",
       "5    Angular  Angular is an open source web application plat...   \n",
       "6    Ansible  Ansible is a simple and powerful automation en...   \n",
       "7        API  An API (Application Programming Interface) is ...   \n",
       "8    Arduino  Arduino is an open source platform for buildin...   \n",
       "9    ASP.NET  ASP.NET is a web framework for building modern...   \n",
       "\n",
       "                                   url  \n",
       "0         https://github.com/topics/3d  \n",
       "1       https://github.com/topics/ajax  \n",
       "2  https://github.com/topics/algorithm  \n",
       "3      https://github.com/topics/amphp  \n",
       "4    https://github.com/topics/android  \n",
       "5    https://github.com/topics/angular  \n",
       "6    https://github.com/topics/ansible  \n",
       "7        https://github.com/topics/api  \n",
       "8    https://github.com/topics/arduino  \n",
       "9     https://github.com/topics/aspnet  "
      ]
     },
     "execution_count": 36,
     "metadata": {},
     "output_type": "execute_result"
    }
   ],
   "source": [
    "scrape_topics().head(10)"
   ]
  },
  {
   "cell_type": "markdown",
   "id": "ae9c4a3b",
   "metadata": {},
   "source": [
    "Now that we have extracted the topics, let's move to scrape individual pages"
   ]
  },
  {
   "cell_type": "markdown",
   "id": "6194c359",
   "metadata": {},
   "source": [
    "## Get the top repositories from the topic page\n",
    "\n",
    "Now, our focus shifts to scraping individual pages (e.g., https://github.com/topics/3d) to retrieve the names, usernames, URLs, and star counts of the top repositories.\n",
    "![](https://i.imgur.com/YquF4TE.png)\n",
    "\n",
    "Here, \n",
    "- repo name: 'three.js'\n",
    "- username: mrdoob\n",
    "- urls: https://github.com/mrdoob/three.js\n",
    "- stars: 97.1k\n",
    "\n"
   ]
  },
  {
   "cell_type": "code",
   "execution_count": 37,
   "id": "352cc583",
   "metadata": {},
   "outputs": [],
   "source": [
    "def get_topic_page(topic_url):\n",
    "    #Download the page\n",
    "    response=requests.get(topic_url)\n",
    "    \n",
    "    #check successful response\n",
    "    if response.status_code!=200:\n",
    "        raise Exception('Failed to load page {}'.format(topic_url))\n",
    "        \n",
    "    #parse using beautiful soup\n",
    "    topic_doc=BeautifulSoup(response.text,'html.parser')\n",
    "    \n",
    "    return topic_doc"
   ]
  },
  {
   "cell_type": "code",
   "execution_count": 38,
   "id": "5ba67906",
   "metadata": {},
   "outputs": [],
   "source": [
    "doc=get_topic_page('https://github.com/topics/3d')"
   ]
  },
  {
   "cell_type": "markdown",
   "id": "93df31eb",
   "metadata": {},
   "source": [
    "As we can see that the number of stars are in format \"97.1k\" so we need to convert them into integers."
   ]
  },
  {
   "cell_type": "code",
   "execution_count": 42,
   "id": "e4e9083c",
   "metadata": {},
   "outputs": [],
   "source": [
    "def parse_likes(like_str):\n",
    "    like_str=like_str.strip()\n",
    "    if like_str[-1]=='k':\n",
    "        return int(float(like_str[:-1])*1000)\n",
    "    else:\n",
    "        return int(like_str)"
   ]
  },
  {
   "cell_type": "code",
   "execution_count": 46,
   "id": "27d4b930",
   "metadata": {},
   "outputs": [
    {
     "data": {
      "text/plain": [
       "97100"
      ]
     },
     "execution_count": 46,
     "metadata": {},
     "output_type": "execute_result"
    }
   ],
   "source": [
    "parse_likes('97.1k')"
   ]
  },
  {
   "cell_type": "markdown",
   "id": "05292954",
   "metadata": {},
   "source": [
    "Using the following function, we'll gather all repository information together. The input arguments include `a` tag containing the repository name and its URL, a star tag (`span` tag indicating the number of stars), and an `h3` tag containing information on the username.\n",
    "\n",
    "![](https://i.imgur.com/MgWYz7x.png)\n"
   ]
  },
  {
   "cell_type": "code",
   "execution_count": 43,
   "id": "f3ee0d5d",
   "metadata": {},
   "outputs": [],
   "source": [
    "def get_repo_info(a_tag,h3_tag,star_tag):\n",
    "    #returns all the required info about a repository\n",
    "    repo_name=a_tag.text.strip()\n",
    "    repo_url=\"https://github.com\" + a_tag['href']\n",
    "    username=h3_tag.find_all('a')[0].text.strip()\n",
    "    repo_star=parse_likes(star_tag.text.strip())\n",
    "    return username, repo_name,repo_star,repo_url"
   ]
  },
  {
   "cell_type": "markdown",
   "id": "a620a2c8",
   "metadata": {},
   "source": [
    "Now creating the dataframe"
   ]
  },
  {
   "cell_type": "code",
   "execution_count": 44,
   "id": "35e65cad",
   "metadata": {},
   "outputs": [],
   "source": [
    "def get_topic_repos(topic_doc):\n",
    "    #get tag info\n",
    "    repo_name_class='Link text-bold wb-break-word'\n",
    "    repo_name_tags=topic_doc.find_all('a',class_=repo_name_class)\n",
    "    username_class='f3 color-fg-muted text-normal lh-condensed'\n",
    "    username_tags=topic_doc.find_all('h3',class_=username_class)\n",
    "    likes_class='Counter js-social-count'\n",
    "    likes_tags=topic_doc.find_all('span',class_=likes_class)\n",
    "    \n",
    "    #get Repo info\n",
    "    topic_repo_dict={\n",
    "        'username':[],\n",
    "        'repo_name':[],\n",
    "        'stars':[],\n",
    "        'repo_url':[]\n",
    "    }\n",
    "    for i in range(len(repo_name_tags)):\n",
    "        repo_info=get_repo_info(repo_name_tags[i],username_tags[i],likes_tags[i])\n",
    "        topic_repo_dict['username'].append(repo_info[0])\n",
    "        topic_repo_dict['repo_name'].append(repo_info[1])\n",
    "        topic_repo_dict['stars'].append(repo_info[2])\n",
    "        topic_repo_dict['repo_url'].append(repo_info[3])\n",
    "        \n",
    "        \n",
    "    return pd.DataFrame(topic_repo_dict)"
   ]
  },
  {
   "cell_type": "code",
   "execution_count": 45,
   "id": "756032e0",
   "metadata": {},
   "outputs": [
    {
     "data": {
      "text/html": [
       "<div>\n",
       "<style scoped>\n",
       "    .dataframe tbody tr th:only-of-type {\n",
       "        vertical-align: middle;\n",
       "    }\n",
       "\n",
       "    .dataframe tbody tr th {\n",
       "        vertical-align: top;\n",
       "    }\n",
       "\n",
       "    .dataframe thead th {\n",
       "        text-align: right;\n",
       "    }\n",
       "</style>\n",
       "<table border=\"1\" class=\"dataframe\">\n",
       "  <thead>\n",
       "    <tr style=\"text-align: right;\">\n",
       "      <th></th>\n",
       "      <th>username</th>\n",
       "      <th>repo_name</th>\n",
       "      <th>stars</th>\n",
       "      <th>repo_url</th>\n",
       "    </tr>\n",
       "  </thead>\n",
       "  <tbody>\n",
       "    <tr>\n",
       "      <th>0</th>\n",
       "      <td>mrdoob</td>\n",
       "      <td>three.js</td>\n",
       "      <td>97100</td>\n",
       "      <td>https://github.com/mrdoob/three.js</td>\n",
       "    </tr>\n",
       "    <tr>\n",
       "      <th>1</th>\n",
       "      <td>pmndrs</td>\n",
       "      <td>react-three-fiber</td>\n",
       "      <td>25100</td>\n",
       "      <td>https://github.com/pmndrs/react-three-fiber</td>\n",
       "    </tr>\n",
       "    <tr>\n",
       "      <th>2</th>\n",
       "      <td>libgdx</td>\n",
       "      <td>libgdx</td>\n",
       "      <td>22400</td>\n",
       "      <td>https://github.com/libgdx/libgdx</td>\n",
       "    </tr>\n",
       "    <tr>\n",
       "      <th>3</th>\n",
       "      <td>BabylonJS</td>\n",
       "      <td>Babylon.js</td>\n",
       "      <td>22000</td>\n",
       "      <td>https://github.com/BabylonJS/Babylon.js</td>\n",
       "    </tr>\n",
       "    <tr>\n",
       "      <th>4</th>\n",
       "      <td>ssloy</td>\n",
       "      <td>tinyrenderer</td>\n",
       "      <td>18800</td>\n",
       "      <td>https://github.com/ssloy/tinyrenderer</td>\n",
       "    </tr>\n",
       "    <tr>\n",
       "      <th>5</th>\n",
       "      <td>lettier</td>\n",
       "      <td>3d-game-shaders-for-beginners</td>\n",
       "      <td>16700</td>\n",
       "      <td>https://github.com/lettier/3d-game-shaders-for...</td>\n",
       "    </tr>\n",
       "    <tr>\n",
       "      <th>6</th>\n",
       "      <td>FreeCAD</td>\n",
       "      <td>FreeCAD</td>\n",
       "      <td>16500</td>\n",
       "      <td>https://github.com/FreeCAD/FreeCAD</td>\n",
       "    </tr>\n",
       "    <tr>\n",
       "      <th>7</th>\n",
       "      <td>aframevr</td>\n",
       "      <td>aframe</td>\n",
       "      <td>16000</td>\n",
       "      <td>https://github.com/aframevr/aframe</td>\n",
       "    </tr>\n",
       "    <tr>\n",
       "      <th>8</th>\n",
       "      <td>CesiumGS</td>\n",
       "      <td>cesium</td>\n",
       "      <td>11500</td>\n",
       "      <td>https://github.com/CesiumGS/cesium</td>\n",
       "    </tr>\n",
       "    <tr>\n",
       "      <th>9</th>\n",
       "      <td>blender</td>\n",
       "      <td>blender</td>\n",
       "      <td>10700</td>\n",
       "      <td>https://github.com/blender/blender</td>\n",
       "    </tr>\n",
       "    <tr>\n",
       "      <th>10</th>\n",
       "      <td>MonoGame</td>\n",
       "      <td>MonoGame</td>\n",
       "      <td>10500</td>\n",
       "      <td>https://github.com/MonoGame/MonoGame</td>\n",
       "    </tr>\n",
       "    <tr>\n",
       "      <th>11</th>\n",
       "      <td>metafizzy</td>\n",
       "      <td>zdog</td>\n",
       "      <td>10200</td>\n",
       "      <td>https://github.com/metafizzy/zdog</td>\n",
       "    </tr>\n",
       "    <tr>\n",
       "      <th>12</th>\n",
       "      <td>isl-org</td>\n",
       "      <td>Open3D</td>\n",
       "      <td>10100</td>\n",
       "      <td>https://github.com/isl-org/Open3D</td>\n",
       "    </tr>\n",
       "    <tr>\n",
       "      <th>13</th>\n",
       "      <td>timzhang642</td>\n",
       "      <td>3D-Machine-Learning</td>\n",
       "      <td>9300</td>\n",
       "      <td>https://github.com/timzhang642/3D-Machine-Lear...</td>\n",
       "    </tr>\n",
       "    <tr>\n",
       "      <th>14</th>\n",
       "      <td>nerfstudio-project</td>\n",
       "      <td>nerfstudio</td>\n",
       "      <td>7800</td>\n",
       "      <td>https://github.com/nerfstudio-project/nerfstudio</td>\n",
       "    </tr>\n",
       "    <tr>\n",
       "      <th>15</th>\n",
       "      <td>a1studmuffin</td>\n",
       "      <td>SpaceshipGenerator</td>\n",
       "      <td>7500</td>\n",
       "      <td>https://github.com/a1studmuffin/SpaceshipGener...</td>\n",
       "    </tr>\n",
       "    <tr>\n",
       "      <th>16</th>\n",
       "      <td>domlysz</td>\n",
       "      <td>BlenderGIS</td>\n",
       "      <td>7000</td>\n",
       "      <td>https://github.com/domlysz/BlenderGIS</td>\n",
       "    </tr>\n",
       "    <tr>\n",
       "      <th>17</th>\n",
       "      <td>FyroxEngine</td>\n",
       "      <td>Fyrox</td>\n",
       "      <td>6900</td>\n",
       "      <td>https://github.com/FyroxEngine/Fyrox</td>\n",
       "    </tr>\n",
       "    <tr>\n",
       "      <th>18</th>\n",
       "      <td>google</td>\n",
       "      <td>model-viewer</td>\n",
       "      <td>6300</td>\n",
       "      <td>https://github.com/google/model-viewer</td>\n",
       "    </tr>\n",
       "    <tr>\n",
       "      <th>19</th>\n",
       "      <td>openscad</td>\n",
       "      <td>openscad</td>\n",
       "      <td>6200</td>\n",
       "      <td>https://github.com/openscad/openscad</td>\n",
       "    </tr>\n",
       "  </tbody>\n",
       "</table>\n",
       "</div>"
      ],
      "text/plain": [
       "              username                      repo_name  stars  \\\n",
       "0               mrdoob                       three.js  97100   \n",
       "1               pmndrs              react-three-fiber  25100   \n",
       "2               libgdx                         libgdx  22400   \n",
       "3            BabylonJS                     Babylon.js  22000   \n",
       "4                ssloy                   tinyrenderer  18800   \n",
       "5              lettier  3d-game-shaders-for-beginners  16700   \n",
       "6              FreeCAD                        FreeCAD  16500   \n",
       "7             aframevr                         aframe  16000   \n",
       "8             CesiumGS                         cesium  11500   \n",
       "9              blender                        blender  10700   \n",
       "10            MonoGame                       MonoGame  10500   \n",
       "11           metafizzy                           zdog  10200   \n",
       "12             isl-org                         Open3D  10100   \n",
       "13         timzhang642            3D-Machine-Learning   9300   \n",
       "14  nerfstudio-project                     nerfstudio   7800   \n",
       "15        a1studmuffin             SpaceshipGenerator   7500   \n",
       "16             domlysz                     BlenderGIS   7000   \n",
       "17         FyroxEngine                          Fyrox   6900   \n",
       "18              google                   model-viewer   6300   \n",
       "19            openscad                       openscad   6200   \n",
       "\n",
       "                                             repo_url  \n",
       "0                  https://github.com/mrdoob/three.js  \n",
       "1         https://github.com/pmndrs/react-three-fiber  \n",
       "2                    https://github.com/libgdx/libgdx  \n",
       "3             https://github.com/BabylonJS/Babylon.js  \n",
       "4               https://github.com/ssloy/tinyrenderer  \n",
       "5   https://github.com/lettier/3d-game-shaders-for...  \n",
       "6                  https://github.com/FreeCAD/FreeCAD  \n",
       "7                  https://github.com/aframevr/aframe  \n",
       "8                  https://github.com/CesiumGS/cesium  \n",
       "9                  https://github.com/blender/blender  \n",
       "10               https://github.com/MonoGame/MonoGame  \n",
       "11                  https://github.com/metafizzy/zdog  \n",
       "12                  https://github.com/isl-org/Open3D  \n",
       "13  https://github.com/timzhang642/3D-Machine-Lear...  \n",
       "14   https://github.com/nerfstudio-project/nerfstudio  \n",
       "15  https://github.com/a1studmuffin/SpaceshipGener...  \n",
       "16              https://github.com/domlysz/BlenderGIS  \n",
       "17               https://github.com/FyroxEngine/Fyrox  \n",
       "18             https://github.com/google/model-viewer  \n",
       "19               https://github.com/openscad/openscad  "
      ]
     },
     "execution_count": 45,
     "metadata": {},
     "output_type": "execute_result"
    }
   ],
   "source": [
    "get_topic_repos(doc)"
   ]
  },
  {
   "cell_type": "markdown",
   "id": "eee347aa",
   "metadata": {},
   "source": [
    "## Putting it all together\n",
    "\n",
    "- We have a function to get the list of topics\n",
    "- We have a function to create a CSV filr for scraped repos from a topics page\n",
    "- Let's create a fucntion to put them together"
   ]
  },
  {
   "cell_type": "code",
   "execution_count": 47,
   "id": "2768f50f",
   "metadata": {},
   "outputs": [],
   "source": [
    "def scrape_topic(topic_url,topic_name):\n",
    "    fname=topic_name + '.csv'\n",
    "    if os.path.exists(fname):\n",
    "        print(\"The file {} already exists. Skipping...\".format(fname))\n",
    "        return\n",
    "    topic_df=get_topic_repos(get_topic_page(topic_url))\n",
    "    topic_df.to_csv(fname + '.csv',index=None)\n",
    "    "
   ]
  },
  {
   "cell_type": "code",
   "execution_count": 48,
   "id": "c6be72b8",
   "metadata": {},
   "outputs": [],
   "source": [
    "def scrape_topics_repos():\n",
    "    print('Scrapping List of topics')\n",
    "    topics_df=scrape_topics()\n",
    "    for index,row in topics_df.iterrows():\n",
    "        print('Scraping top repositories for \"{}\"'.format(row['title']))\n",
    "        scrape_topic(row['url'],row['title'])"
   ]
  },
  {
   "cell_type": "markdown",
   "id": "bcc6979c",
   "metadata": {},
   "source": [
    "Let's run it to scrape the top repos for all the topics on the irst page of https://github.com/topics"
   ]
  },
  {
   "cell_type": "code",
   "execution_count": 51,
   "id": "3a8e389d",
   "metadata": {},
   "outputs": [
    {
     "name": "stdout",
     "output_type": "stream",
     "text": [
      "Scrapping List of topics\n",
      "Scraping top repositories for \"3D\"\n",
      "Scraping top repositories for \"Ajax\"\n",
      "Scraping top repositories for \"Algorithm\"\n",
      "Scraping top repositories for \"Amp\"\n",
      "Scraping top repositories for \"Android\"\n",
      "Scraping top repositories for \"Angular\"\n",
      "Scraping top repositories for \"Ansible\"\n",
      "Scraping top repositories for \"API\"\n",
      "Scraping top repositories for \"Arduino\"\n",
      "Scraping top repositories for \"ASP.NET\"\n",
      "Scraping top repositories for \"Atom\"\n",
      "Scraping top repositories for \"Awesome Lists\"\n",
      "Scraping top repositories for \"Amazon Web Services\"\n",
      "Scraping top repositories for \"Azure\"\n",
      "Scraping top repositories for \"Babel\"\n",
      "Scraping top repositories for \"Bash\"\n",
      "Scraping top repositories for \"Bitcoin\"\n",
      "Scraping top repositories for \"Bootstrap\"\n",
      "Scraping top repositories for \"Bot\"\n",
      "Scraping top repositories for \"C\"\n",
      "Scraping top repositories for \"Chrome\"\n",
      "Scraping top repositories for \"Chrome extension\"\n",
      "Scraping top repositories for \"Command line interface\"\n",
      "Scraping top repositories for \"Clojure\"\n",
      "Scraping top repositories for \"Code quality\"\n",
      "Scraping top repositories for \"Code review\"\n",
      "Scraping top repositories for \"Compiler\"\n",
      "Scraping top repositories for \"Continuous integration\"\n",
      "Scraping top repositories for \"COVID-19\"\n",
      "Scraping top repositories for \"C++\"\n"
     ]
    }
   ],
   "source": [
    "scrape_topics_repos()"
   ]
  },
  {
   "cell_type": "markdown",
   "id": "7db471d9",
   "metadata": {},
   "source": [
    "We can check that the CSVs were created properly"
   ]
  },
  {
   "cell_type": "code",
   "execution_count": 55,
   "id": "eaf03de2",
   "metadata": {},
   "outputs": [
    {
     "data": {
      "text/html": [
       "<div>\n",
       "<style scoped>\n",
       "    .dataframe tbody tr th:only-of-type {\n",
       "        vertical-align: middle;\n",
       "    }\n",
       "\n",
       "    .dataframe tbody tr th {\n",
       "        vertical-align: top;\n",
       "    }\n",
       "\n",
       "    .dataframe thead th {\n",
       "        text-align: right;\n",
       "    }\n",
       "</style>\n",
       "<table border=\"1\" class=\"dataframe\">\n",
       "  <thead>\n",
       "    <tr style=\"text-align: right;\">\n",
       "      <th></th>\n",
       "      <th>username</th>\n",
       "      <th>repo_name</th>\n",
       "      <th>stars</th>\n",
       "      <th>repo_url</th>\n",
       "    </tr>\n",
       "  </thead>\n",
       "  <tbody>\n",
       "    <tr>\n",
       "      <th>0</th>\n",
       "      <td>ljianshu</td>\n",
       "      <td>Blog</td>\n",
       "      <td>7800</td>\n",
       "      <td>https://github.com/ljianshu/Blog</td>\n",
       "    </tr>\n",
       "    <tr>\n",
       "      <th>1</th>\n",
       "      <td>metafizzy</td>\n",
       "      <td>infinite-scroll</td>\n",
       "      <td>7400</td>\n",
       "      <td>https://github.com/metafizzy/infinite-scroll</td>\n",
       "    </tr>\n",
       "    <tr>\n",
       "      <th>2</th>\n",
       "      <td>olifolkerd</td>\n",
       "      <td>tabulator</td>\n",
       "      <td>5900</td>\n",
       "      <td>https://github.com/olifolkerd/tabulator</td>\n",
       "    </tr>\n",
       "    <tr>\n",
       "      <th>3</th>\n",
       "      <td>developit</td>\n",
       "      <td>unfetch</td>\n",
       "      <td>5700</td>\n",
       "      <td>https://github.com/developit/unfetch</td>\n",
       "    </tr>\n",
       "    <tr>\n",
       "      <th>4</th>\n",
       "      <td>jquery-form</td>\n",
       "      <td>form</td>\n",
       "      <td>5200</td>\n",
       "      <td>https://github.com/jquery-form/form</td>\n",
       "    </tr>\n",
       "    <tr>\n",
       "      <th>5</th>\n",
       "      <td>Studio-42</td>\n",
       "      <td>elFinder</td>\n",
       "      <td>4500</td>\n",
       "      <td>https://github.com/Studio-42/elFinder</td>\n",
       "    </tr>\n",
       "    <tr>\n",
       "      <th>6</th>\n",
       "      <td>elbywan</td>\n",
       "      <td>wretch</td>\n",
       "      <td>4400</td>\n",
       "      <td>https://github.com/elbywan/wretch</td>\n",
       "    </tr>\n",
       "    <tr>\n",
       "      <th>7</th>\n",
       "      <td>dwyl</td>\n",
       "      <td>learn-to-send-email-via-google-script-html-no-...</td>\n",
       "      <td>3000</td>\n",
       "      <td>https://github.com/dwyl/learn-to-send-email-vi...</td>\n",
       "    </tr>\n",
       "    <tr>\n",
       "      <th>8</th>\n",
       "      <td>ded</td>\n",
       "      <td>reqwest</td>\n",
       "      <td>2900</td>\n",
       "      <td>https://github.com/ded/reqwest</td>\n",
       "    </tr>\n",
       "    <tr>\n",
       "      <th>9</th>\n",
       "      <td>wendux</td>\n",
       "      <td>ajax-hook</td>\n",
       "      <td>2500</td>\n",
       "      <td>https://github.com/wendux/ajax-hook</td>\n",
       "    </tr>\n",
       "    <tr>\n",
       "      <th>10</th>\n",
       "      <td>LeaVerou</td>\n",
       "      <td>bliss</td>\n",
       "      <td>2400</td>\n",
       "      <td>https://github.com/LeaVerou/bliss</td>\n",
       "    </tr>\n",
       "    <tr>\n",
       "      <th>11</th>\n",
       "      <td>noelboss</td>\n",
       "      <td>featherlight</td>\n",
       "      <td>2100</td>\n",
       "      <td>https://github.com/noelboss/featherlight</td>\n",
       "    </tr>\n",
       "    <tr>\n",
       "      <th>12</th>\n",
       "      <td>craftpip</td>\n",
       "      <td>jquery-confirm</td>\n",
       "      <td>1900</td>\n",
       "      <td>https://github.com/craftpip/jquery-confirm</td>\n",
       "    </tr>\n",
       "    <tr>\n",
       "      <th>13</th>\n",
       "      <td>taoensso</td>\n",
       "      <td>sente</td>\n",
       "      <td>1700</td>\n",
       "      <td>https://github.com/taoensso/sente</td>\n",
       "    </tr>\n",
       "    <tr>\n",
       "      <th>14</th>\n",
       "      <td>nette</td>\n",
       "      <td>tracy</td>\n",
       "      <td>1700</td>\n",
       "      <td>https://github.com/nette/tracy</td>\n",
       "    </tr>\n",
       "    <tr>\n",
       "      <th>15</th>\n",
       "      <td>k8w</td>\n",
       "      <td>tsrpc</td>\n",
       "      <td>1700</td>\n",
       "      <td>https://github.com/k8w/tsrpc</td>\n",
       "    </tr>\n",
       "    <tr>\n",
       "      <th>16</th>\n",
       "      <td>loadingio</td>\n",
       "      <td>css-spinner</td>\n",
       "      <td>1700</td>\n",
       "      <td>https://github.com/loadingio/css-spinner</td>\n",
       "    </tr>\n",
       "    <tr>\n",
       "      <th>17</th>\n",
       "      <td>joaomilho</td>\n",
       "      <td>Enterprise</td>\n",
       "      <td>1600</td>\n",
       "      <td>https://github.com/joaomilho/Enterprise</td>\n",
       "    </tr>\n",
       "    <tr>\n",
       "      <th>18</th>\n",
       "      <td>codingforentrepreneurs</td>\n",
       "      <td>eCommerce</td>\n",
       "      <td>1500</td>\n",
       "      <td>https://github.com/codingforentrepreneurs/eCom...</td>\n",
       "    </tr>\n",
       "    <tr>\n",
       "      <th>19</th>\n",
       "      <td>u014427391</td>\n",
       "      <td>jeeplatform</td>\n",
       "      <td>1400</td>\n",
       "      <td>https://github.com/u014427391/jeeplatform</td>\n",
       "    </tr>\n",
       "  </tbody>\n",
       "</table>\n",
       "</div>"
      ],
      "text/plain": [
       "                  username                                          repo_name  \\\n",
       "0                 ljianshu                                               Blog   \n",
       "1                metafizzy                                    infinite-scroll   \n",
       "2               olifolkerd                                          tabulator   \n",
       "3                developit                                            unfetch   \n",
       "4              jquery-form                                               form   \n",
       "5                Studio-42                                           elFinder   \n",
       "6                  elbywan                                             wretch   \n",
       "7                     dwyl  learn-to-send-email-via-google-script-html-no-...   \n",
       "8                      ded                                            reqwest   \n",
       "9                   wendux                                          ajax-hook   \n",
       "10                LeaVerou                                              bliss   \n",
       "11                noelboss                                       featherlight   \n",
       "12                craftpip                                     jquery-confirm   \n",
       "13                taoensso                                              sente   \n",
       "14                   nette                                              tracy   \n",
       "15                     k8w                                              tsrpc   \n",
       "16               loadingio                                        css-spinner   \n",
       "17               joaomilho                                         Enterprise   \n",
       "18  codingforentrepreneurs                                          eCommerce   \n",
       "19              u014427391                                        jeeplatform   \n",
       "\n",
       "    stars                                           repo_url  \n",
       "0    7800                   https://github.com/ljianshu/Blog  \n",
       "1    7400       https://github.com/metafizzy/infinite-scroll  \n",
       "2    5900            https://github.com/olifolkerd/tabulator  \n",
       "3    5700               https://github.com/developit/unfetch  \n",
       "4    5200                https://github.com/jquery-form/form  \n",
       "5    4500              https://github.com/Studio-42/elFinder  \n",
       "6    4400                  https://github.com/elbywan/wretch  \n",
       "7    3000  https://github.com/dwyl/learn-to-send-email-vi...  \n",
       "8    2900                     https://github.com/ded/reqwest  \n",
       "9    2500                https://github.com/wendux/ajax-hook  \n",
       "10   2400                  https://github.com/LeaVerou/bliss  \n",
       "11   2100           https://github.com/noelboss/featherlight  \n",
       "12   1900         https://github.com/craftpip/jquery-confirm  \n",
       "13   1700                  https://github.com/taoensso/sente  \n",
       "14   1700                     https://github.com/nette/tracy  \n",
       "15   1700                       https://github.com/k8w/tsrpc  \n",
       "16   1700           https://github.com/loadingio/css-spinner  \n",
       "17   1600            https://github.com/joaomilho/Enterprise  \n",
       "18   1500  https://github.com/codingforentrepreneurs/eCom...  \n",
       "19   1400          https://github.com/u014427391/jeeplatform  "
      ]
     },
     "execution_count": 55,
     "metadata": {},
     "output_type": "execute_result"
    }
   ],
   "source": [
    "pd.read_csv('Ajax.csv.csv')"
   ]
  },
  {
   "cell_type": "markdown",
   "id": "860b425a",
   "metadata": {},
   "source": [
    "## Summary\n",
    "\n",
    "Summary of what we did:\n",
    "- Scrap https://github.com/topics and extracts information using Beautiful Soup and requests library\n",
    "- Further scraped individual pages for each Topics to get repositories information\n"
   ]
  }
 ],
 "metadata": {
  "kernelspec": {
   "display_name": "Python 3 (ipykernel)",
   "language": "python",
   "name": "python3"
  },
  "language_info": {
   "codemirror_mode": {
    "name": "ipython",
    "version": 3
   },
   "file_extension": ".py",
   "mimetype": "text/x-python",
   "name": "python",
   "nbconvert_exporter": "python",
   "pygments_lexer": "ipython3",
   "version": "3.11.5"
  }
 },
 "nbformat": 4,
 "nbformat_minor": 5
}
